{
 "cells": [
  {
   "cell_type": "code",
   "execution_count": 1,
   "id": "fe6c41b3",
   "metadata": {
    "_cell_guid": "b1076dfc-b9ad-4769-8c92-a6c4dae69d19",
    "_uuid": "8f2839f25d086af736a60e9eeb907d3b93b6e0e5",
    "execution": {
     "iopub.execute_input": "2024-01-05T13:49:50.213018Z",
     "iopub.status.busy": "2024-01-05T13:49:50.211953Z",
     "iopub.status.idle": "2024-01-05T13:49:50.775764Z",
     "shell.execute_reply": "2024-01-05T13:49:50.774239Z"
    },
    "papermill": {
     "duration": 0.596571,
     "end_time": "2024-01-05T13:49:50.779187",
     "exception": false,
     "start_time": "2024-01-05T13:49:50.182616",
     "status": "completed"
    },
    "tags": []
   },
   "outputs": [
    {
     "name": "stdout",
     "output_type": "stream",
     "text": [
      "/kaggle/input/creditcard/creditcard.csv\n",
      "/kaggle/input/creditcardfraud/creditcard.csv\n"
     ]
    }
   ],
   "source": [
    "# This Python 3 environment comes with many helpful analytics libraries installed\n",
    "# It is defined by the kaggle/python Docker image: https://github.com/kaggle/docker-python\n",
    "# For example, here's several helpful packages to load\n",
    "\n",
    "import numpy as np # linear algebra\n",
    "import pandas as pd # data processing, CSV file I/O (e.g. pd.read_csv)\n",
    "\n",
    "# Input data files are available in the read-only \"../input/\" directory\n",
    "# For example, running this (by clicking run or pressing Shift+Enter) will list all files under the input directory\n",
    "\n",
    "import os\n",
    "for dirname, _, filenames in os.walk('/kaggle/input'):\n",
    "    for filename in filenames:\n",
    "        print(os.path.join(dirname, filename))\n",
    "\n",
    "# You can write up to 20GB to the current directory (/kaggle/working/) that gets preserved as output when you create a version using \"Save & Run All\" \n",
    "# You can also write temporary files to /kaggle/temp/, but they won't be saved outside of the current session"
   ]
  },
  {
   "cell_type": "markdown",
   "id": "05675e1e",
   "metadata": {
    "papermill": {
     "duration": 0.02321,
     "end_time": "2024-01-05T13:49:50.826317",
     "exception": false,
     "start_time": "2024-01-05T13:49:50.803107",
     "status": "completed"
    },
    "tags": []
   },
   "source": [
    "# ****EDA(EXPLORATORY DATA ANALYSIS)**\n",
    "* Read Dataset\n",
    "* Count Number of Fraud and Non-fraud Records\n",
    "* Select sample of the records from the dataset¶\n",
    "* Determine the count of null values\n",
    "* Determine the count of duplicate records\n",
    "* Descriptive analysis"
   ]
  },
  {
   "cell_type": "markdown",
   "id": "c76ea77d",
   "metadata": {
    "papermill": {
     "duration": 0.026341,
     "end_time": "2024-01-05T13:49:50.876721",
     "exception": false,
     "start_time": "2024-01-05T13:49:50.850380",
     "status": "completed"
    },
    "tags": []
   },
   "source": [
    "# **Read Dataset**"
   ]
  },
  {
   "cell_type": "code",
   "execution_count": 2,
   "id": "93a4cf6d",
   "metadata": {
    "execution": {
     "iopub.execute_input": "2024-01-05T13:49:50.930829Z",
     "iopub.status.busy": "2024-01-05T13:49:50.930228Z",
     "iopub.status.idle": "2024-01-05T13:49:56.337892Z",
     "shell.execute_reply": "2024-01-05T13:49:56.336549Z"
    },
    "papermill": {
     "duration": 5.437667,
     "end_time": "2024-01-05T13:49:56.340959",
     "exception": false,
     "start_time": "2024-01-05T13:49:50.903292",
     "status": "completed"
    },
    "tags": []
   },
   "outputs": [
    {
     "name": "stdout",
     "output_type": "stream",
     "text": [
      "            Time         V1         V2        V3        V4        V5  \\\n",
      "0            0.0  -1.359807  -0.072781  2.536347  1.378155 -0.338321   \n",
      "1            0.0   1.191857   0.266151  0.166480  0.448154  0.060018   \n",
      "2            1.0  -1.358354  -1.340163  1.773209  0.379780 -0.503198   \n",
      "3            1.0  -0.966272  -0.185226  1.792993 -0.863291 -0.010309   \n",
      "4            2.0  -1.158233   0.877737  1.548718  0.403034 -0.407193   \n",
      "...          ...        ...        ...       ...       ...       ...   \n",
      "284802  172786.0 -11.881118  10.071785 -9.834783 -2.066656 -5.364473   \n",
      "284803  172787.0  -0.732789  -0.055080  2.035030 -0.738589  0.868229   \n",
      "284804  172788.0   1.919565  -0.301254 -3.249640 -0.557828  2.630515   \n",
      "284805  172788.0  -0.240440   0.530483  0.702510  0.689799 -0.377961   \n",
      "284806  172792.0  -0.533413  -0.189733  0.703337 -0.506271 -0.012546   \n",
      "\n",
      "              V6        V7        V8        V9  ...       V21       V22  \\\n",
      "0       0.462388  0.239599  0.098698  0.363787  ... -0.018307  0.277838   \n",
      "1      -0.082361 -0.078803  0.085102 -0.255425  ... -0.225775 -0.638672   \n",
      "2       1.800499  0.791461  0.247676 -1.514654  ...  0.247998  0.771679   \n",
      "3       1.247203  0.237609  0.377436 -1.387024  ... -0.108300  0.005274   \n",
      "4       0.095921  0.592941 -0.270533  0.817739  ... -0.009431  0.798278   \n",
      "...          ...       ...       ...       ...  ...       ...       ...   \n",
      "284802 -2.606837 -4.918215  7.305334  1.914428  ...  0.213454  0.111864   \n",
      "284803  1.058415  0.024330  0.294869  0.584800  ...  0.214205  0.924384   \n",
      "284804  3.031260 -0.296827  0.708417  0.432454  ...  0.232045  0.578229   \n",
      "284805  0.623708 -0.686180  0.679145  0.392087  ...  0.265245  0.800049   \n",
      "284806 -0.649617  1.577006 -0.414650  0.486180  ...  0.261057  0.643078   \n",
      "\n",
      "             V23       V24       V25       V26       V27       V28  Amount  \\\n",
      "0      -0.110474  0.066928  0.128539 -0.189115  0.133558 -0.021053  149.62   \n",
      "1       0.101288 -0.339846  0.167170  0.125895 -0.008983  0.014724    2.69   \n",
      "2       0.909412 -0.689281 -0.327642 -0.139097 -0.055353 -0.059752  378.66   \n",
      "3      -0.190321 -1.175575  0.647376 -0.221929  0.062723  0.061458  123.50   \n",
      "4      -0.137458  0.141267 -0.206010  0.502292  0.219422  0.215153   69.99   \n",
      "...          ...       ...       ...       ...       ...       ...     ...   \n",
      "284802  1.014480 -0.509348  1.436807  0.250034  0.943651  0.823731    0.77   \n",
      "284803  0.012463 -1.016226 -0.606624 -0.395255  0.068472 -0.053527   24.79   \n",
      "284804 -0.037501  0.640134  0.265745 -0.087371  0.004455 -0.026561   67.88   \n",
      "284805 -0.163298  0.123205 -0.569159  0.546668  0.108821  0.104533   10.00   \n",
      "284806  0.376777  0.008797 -0.473649 -0.818267 -0.002415  0.013649  217.00   \n",
      "\n",
      "        Class  \n",
      "0           0  \n",
      "1           0  \n",
      "2           0  \n",
      "3           0  \n",
      "4           0  \n",
      "...       ...  \n",
      "284802      0  \n",
      "284803      0  \n",
      "284804      0  \n",
      "284805      0  \n",
      "284806      0  \n",
      "\n",
      "[284807 rows x 31 columns]\n"
     ]
    }
   ],
   "source": [
    "import numpy as np\n",
    "import pandas as pd\n",
    "\n",
    "dataset1 = '/kaggle/input/creditcard/creditcard.csv'\n",
    "df = pd.read_csv(dataset1)\n",
    "\n",
    "print(df)"
   ]
  },
  {
   "cell_type": "markdown",
   "id": "3947f419",
   "metadata": {
    "papermill": {
     "duration": 0.025265,
     "end_time": "2024-01-05T13:49:56.391383",
     "exception": false,
     "start_time": "2024-01-05T13:49:56.366118",
     "status": "completed"
    },
    "tags": []
   },
   "source": [
    "# **Count Number of Fraud and Non-fraud Records**"
   ]
  },
  {
   "cell_type": "code",
   "execution_count": 3,
   "id": "c4d0e157",
   "metadata": {
    "execution": {
     "iopub.execute_input": "2024-01-05T13:49:56.439223Z",
     "iopub.status.busy": "2024-01-05T13:49:56.438632Z",
     "iopub.status.idle": "2024-01-05T13:49:56.466576Z",
     "shell.execute_reply": "2024-01-05T13:49:56.464022Z"
    },
    "papermill": {
     "duration": 0.055554,
     "end_time": "2024-01-05T13:49:56.469377",
     "exception": false,
     "start_time": "2024-01-05T13:49:56.413823",
     "status": "completed"
    },
    "tags": []
   },
   "outputs": [
    {
     "name": "stdout",
     "output_type": "stream",
     "text": [
      "Number of Fraud Records: 492\n",
      "Number of Non-Fraud Records: 284315\n"
     ]
    }
   ],
   "source": [
    "fraud_count = df['Class'].value_counts()[1]\n",
    "nonfraud_count = df['Class'].value_counts()[0]\n",
    "\n",
    "print(f\"Number of Fraud Records: {fraud_count}\")\n",
    "print(f\"Number of Non-Fraud Records: {nonfraud_count}\")"
   ]
  },
  {
   "cell_type": "markdown",
   "id": "0eaf97b1",
   "metadata": {
    "papermill": {
     "duration": 0.02405,
     "end_time": "2024-01-05T13:49:56.517454",
     "exception": false,
     "start_time": "2024-01-05T13:49:56.493404",
     "status": "completed"
    },
    "tags": []
   },
   "source": [
    "\n",
    "# **Select sample of the records from the dataset**"
   ]
  },
  {
   "cell_type": "code",
   "execution_count": 4,
   "id": "5b1ce939",
   "metadata": {
    "execution": {
     "iopub.execute_input": "2024-01-05T13:49:56.567622Z",
     "iopub.status.busy": "2024-01-05T13:49:56.566793Z",
     "iopub.status.idle": "2024-01-05T13:49:56.654520Z",
     "shell.execute_reply": "2024-01-05T13:49:56.652379Z"
    },
    "papermill": {
     "duration": 0.114713,
     "end_time": "2024-01-05T13:49:56.657340",
     "exception": false,
     "start_time": "2024-01-05T13:49:56.542627",
     "status": "completed"
    },
    "tags": []
   },
   "outputs": [
    {
     "name": "stdout",
     "output_type": "stream",
     "text": [
      "           Time        V1        V2        V3        V4        V5        V6  \\\n",
      "0       62538.0  1.093688 -0.123989  1.380520  1.283623 -1.085386 -0.014911   \n",
      "1       22566.0 -1.772826 -0.540115  2.172017 -2.109174  0.462264 -0.141527   \n",
      "2      153948.0  2.156591 -0.760941 -1.275143 -0.890670 -0.574581 -1.057300   \n",
      "3      136261.0  0.878862 -2.769036 -1.329463  1.004904 -1.463248  0.156821   \n",
      "4      105369.0 -1.127617  0.743345  0.411072 -1.096808  1.958827  0.006477   \n",
      "...         ...       ...       ...       ...       ...       ...       ...   \n",
      "10464   43537.0  1.206519 -0.721788 -0.489190 -0.902929  1.295684  3.883517   \n",
      "10465  128493.0  2.034027 -0.208329 -0.879314  0.029074 -0.236303 -0.731470   \n",
      "10466   61446.0 -0.891747  1.137517  1.267979 -0.092807 -0.235736 -0.290039   \n",
      "10467   88396.0  1.749326 -0.392480 -1.968671  0.645189 -0.032361 -1.408573   \n",
      "10468   28022.0 -0.958739  0.425510  1.989221 -2.061040 -0.628631 -0.290177   \n",
      "\n",
      "             V7        V8        V9  ...       V21       V22       V23  \\\n",
      "0     -0.700241  0.259531  0.714858  ... -0.004138  0.125153  0.015095   \n",
      "1     -0.432903  0.258443  0.147647  ... -0.624382 -1.275493 -0.059283   \n",
      "2     -0.351882 -0.217310 -0.641860  ...  0.083474  0.214863  0.202985   \n",
      "3     -0.147516  0.059233 -0.113772  ...  0.047635 -0.773336 -0.290858   \n",
      "4      0.705128  0.122022  0.863536  ... -0.502511 -1.495520 -0.341358   \n",
      "...         ...       ...       ...  ...       ...       ...       ...   \n",
      "10464 -1.192475  1.046148  1.071983  ... -0.268373 -0.735007  0.017248   \n",
      "10465 -0.198128 -0.041502  0.457284  ... -0.441941 -1.362492  0.516908   \n",
      "10466  0.159561  0.641001 -0.823529  ... -0.087059 -0.354806  0.089695   \n",
      "10467  0.415722 -0.367783  0.746665  ...  0.272969  0.538433 -0.170481   \n",
      "10468 -0.065028  0.182065 -1.162344  ...  0.297853  0.873839 -0.421018   \n",
      "\n",
      "            V24       V25       V26       V27       V28  Amount  Class  \n",
      "0      0.515887  0.335365 -0.436673  0.064717  0.028840    9.99      0  \n",
      "1     -0.409947 -0.180167  0.290497 -0.289127  0.159046   27.60      0  \n",
      "2      0.009860 -0.092958 -0.296639 -0.045492 -0.074020   15.00      0  \n",
      "3     -0.589672 -0.484991 -0.716090 -0.067540  0.054733  616.00      0  \n",
      "4     -0.562799  0.610801  0.206781 -0.269433  0.120213    4.49      0  \n",
      "...         ...       ...       ...       ...       ...     ...    ...  \n",
      "10464  1.078930  0.283766  0.954519 -0.037354  0.012975   39.77      0  \n",
      "10465 -0.415488 -0.743053  0.024739 -0.077906 -0.064244    0.68      0  \n",
      "10466  0.200690 -0.301992  0.073024  0.151061  0.039990    8.99      0  \n",
      "10467 -0.195450  0.175793 -0.108194 -0.040723 -0.006328  167.83      0  \n",
      "10468  0.017633  0.596830 -0.163001  0.392844  0.174891   18.40      0  \n",
      "\n",
      "[10469 rows x 31 columns]\n"
     ]
    }
   ],
   "source": [
    "fraud_data = df[df['Class'] == 1]\n",
    "not_fraud_data = df[df['Class'] == 0]\n",
    "\n",
    "fraud_size = 469\n",
    "\n",
    "# Randomly sample a subset of fraud data\n",
    "fraud_data_sampled = fraud_data.sample(n=fraud_size, random_state=42)\n",
    "\n",
    "nonfraud_size = 10000\n",
    "# Randomly sample a subset of not fraud data\n",
    "not_fraud_data_sampled = not_fraud_data.sample(n=nonfraud_size, random_state=42)\n",
    "\n",
    "# Concatenate fraud and sampled not fraud data to create a partially balanced dataset\n",
    "random_sample_df = pd.concat([fraud_data_sampled, not_fraud_data_sampled])\n",
    "\n",
    "# Shuffle the dataset\n",
    "random_sample_df = random_sample_df.sample(frac=1, random_state=42).reset_index(drop=True)\n",
    "\n",
    "print(random_sample_df)"
   ]
  },
  {
   "cell_type": "markdown",
   "id": "cc15d1e0",
   "metadata": {
    "papermill": {
     "duration": 0.024858,
     "end_time": "2024-01-05T13:49:56.777917",
     "exception": false,
     "start_time": "2024-01-05T13:49:56.753059",
     "status": "completed"
    },
    "tags": []
   },
   "source": [
    "# **Determine the count of null values**"
   ]
  },
  {
   "cell_type": "code",
   "execution_count": 5,
   "id": "1c4a9dc5",
   "metadata": {
    "execution": {
     "iopub.execute_input": "2024-01-05T13:49:56.833703Z",
     "iopub.status.busy": "2024-01-05T13:49:56.833282Z",
     "iopub.status.idle": "2024-01-05T13:49:56.843770Z",
     "shell.execute_reply": "2024-01-05T13:49:56.841571Z"
    },
    "papermill": {
     "duration": 0.042897,
     "end_time": "2024-01-05T13:49:56.846711",
     "exception": false,
     "start_time": "2024-01-05T13:49:56.803814",
     "status": "completed"
    },
    "tags": []
   },
   "outputs": [
    {
     "name": "stdout",
     "output_type": "stream",
     "text": [
      "Total Null Values: Time      0\n",
      "V1        0\n",
      "V2        0\n",
      "V3        0\n",
      "V4        0\n",
      "V5        0\n",
      "V6        0\n",
      "V7        0\n",
      "V8        0\n",
      "V9        0\n",
      "V10       0\n",
      "V11       0\n",
      "V12       0\n",
      "V13       0\n",
      "V14       0\n",
      "V15       0\n",
      "V16       0\n",
      "V17       0\n",
      "V18       0\n",
      "V19       0\n",
      "V20       0\n",
      "V21       0\n",
      "V22       0\n",
      "V23       0\n",
      "V24       0\n",
      "V25       0\n",
      "V26       0\n",
      "V27       0\n",
      "V28       0\n",
      "Amount    0\n",
      "Class     0\n",
      "dtype: int64\n"
     ]
    }
   ],
   "source": [
    "total_null_values = random_sample_df.isna().sum()\n",
    "print(\"Total Null Values:\", total_null_values)"
   ]
  },
  {
   "cell_type": "markdown",
   "id": "f227606f",
   "metadata": {
    "papermill": {
     "duration": 0.023479,
     "end_time": "2024-01-05T13:49:56.894749",
     "exception": false,
     "start_time": "2024-01-05T13:49:56.871270",
     "status": "completed"
    },
    "tags": []
   },
   "source": [
    "# **Determine the count of duplicate records**"
   ]
  },
  {
   "cell_type": "code",
   "execution_count": 6,
   "id": "e02160b1",
   "metadata": {
    "execution": {
     "iopub.execute_input": "2024-01-05T13:49:56.946955Z",
     "iopub.status.busy": "2024-01-05T13:49:56.946519Z",
     "iopub.status.idle": "2024-01-05T13:49:56.989571Z",
     "shell.execute_reply": "2024-01-05T13:49:56.987368Z"
    },
    "papermill": {
     "duration": 0.072881,
     "end_time": "2024-01-05T13:49:56.992454",
     "exception": false,
     "start_time": "2024-01-05T13:49:56.919573",
     "status": "completed"
    },
    "tags": []
   },
   "outputs": [
    {
     "name": "stdout",
     "output_type": "stream",
     "text": [
      "Total Duplicates: 19\n"
     ]
    }
   ],
   "source": [
    "total_duplicates = random_sample_df.duplicated().sum()\n",
    "print(\"Total Duplicates:\", total_duplicates)"
   ]
  },
  {
   "cell_type": "markdown",
   "id": "d04a2486",
   "metadata": {
    "papermill": {
     "duration": 0.023777,
     "end_time": "2024-01-05T13:49:57.043086",
     "exception": false,
     "start_time": "2024-01-05T13:49:57.019309",
     "status": "completed"
    },
    "tags": []
   },
   "source": [
    "# ****descriptive ananlysis****"
   ]
  },
  {
   "cell_type": "code",
   "execution_count": 7,
   "id": "fc1557e0",
   "metadata": {
    "execution": {
     "iopub.execute_input": "2024-01-05T13:49:57.094623Z",
     "iopub.status.busy": "2024-01-05T13:49:57.094177Z",
     "iopub.status.idle": "2024-01-05T13:49:57.210584Z",
     "shell.execute_reply": "2024-01-05T13:49:57.209296Z"
    },
    "papermill": {
     "duration": 0.145209,
     "end_time": "2024-01-05T13:49:57.213553",
     "exception": false,
     "start_time": "2024-01-05T13:49:57.068344",
     "status": "completed"
    },
    "tags": []
   },
   "outputs": [
    {
     "name": "stdout",
     "output_type": "stream",
     "text": [
      "                Time            V1            V2            V3            V4  \\\n",
      "count   10469.000000  10469.000000  10469.000000  10469.000000  10469.000000   \n",
      "mean    94619.050912     -0.210827      0.162484     -0.324104      0.196367   \n",
      "std     47478.779347      2.552499      1.962975      2.516929      1.771557   \n",
      "min         0.000000    -30.552380    -32.494845    -31.103685     -4.790224   \n",
      "25%     54235.000000     -1.000611     -0.574866     -1.068442     -0.808105   \n",
      "50%     85048.000000     -0.050579      0.106427      0.092281      0.047778   \n",
      "75%    139115.000000      1.288200      0.890081      0.976668      0.890598   \n",
      "max    172768.000000      2.398119     22.057729      3.770236     11.927512   \n",
      "\n",
      "                 V5            V6            V7            V8            V9  \\\n",
      "count  10469.000000  10469.000000  10469.000000  10469.000000  10469.000000   \n",
      "mean      -0.113704     -0.063677     -0.242445      0.031089     -0.101068   \n",
      "std        1.843191      1.394620      2.204739      1.807143      1.315768   \n",
      "min      -22.105532    -17.282140    -43.557242    -41.044261    -13.434066   \n",
      "25%       -0.719747     -0.816297     -0.620680     -0.208818     -0.703000   \n",
      "50%       -0.061170     -0.298618      0.020887      0.030757     -0.071640   \n",
      "75%        0.635919      0.378412      0.574940      0.358279      0.580333   \n",
      "max       28.516513     15.323769     15.915767     20.007208      7.929051   \n",
      "\n",
      "       ...           V21           V22           V23           V24  \\\n",
      "count  ...  10469.000000  10469.000000  10469.000000  10469.000000   \n",
      "mean   ...      0.028459      0.002028      0.003054     -0.007441   \n",
      "std    ...      1.093648      0.767719      0.649903      0.610797   \n",
      "min    ...    -22.797604     -8.887017    -19.254328     -2.836627   \n",
      "25%    ...     -0.222532     -0.540192     -0.168297     -0.359331   \n",
      "50%    ...     -0.019763      0.006034     -0.011850      0.035341   \n",
      "75%    ...      0.201241      0.524395      0.155159      0.429601   \n",
      "max    ...     27.202839      8.361985     15.626067      4.016342   \n",
      "\n",
      "                V25           V26           V27           V28        Amount  \\\n",
      "count  10469.000000  10469.000000  10469.000000  10469.000000  10469.000000   \n",
      "mean      -0.005638      0.003127      0.010601      0.004367     87.960394   \n",
      "std        0.539414      0.483206      0.485823      0.335958    223.139608   \n",
      "min       -4.781606     -1.535092     -7.263482     -8.307955      0.000000   \n",
      "25%       -0.328473     -0.329211     -0.069586     -0.052366      4.990000   \n",
      "50%        0.014511     -0.046772      0.004100      0.012597     21.130000   \n",
      "75%        0.352187      0.256109      0.104411      0.086041     78.000000   \n",
      "max        5.541598      2.859167      9.879903     15.373170   5627.060000   \n",
      "\n",
      "              Class  \n",
      "count  10469.000000  \n",
      "mean       0.044799  \n",
      "std        0.206872  \n",
      "min        0.000000  \n",
      "25%        0.000000  \n",
      "50%        0.000000  \n",
      "75%        0.000000  \n",
      "max        1.000000  \n",
      "\n",
      "[8 rows x 31 columns]\n"
     ]
    }
   ],
   "source": [
    "description=random_sample_df.describe()\n",
    "print(description)"
   ]
  },
  {
   "cell_type": "markdown",
   "id": "0e0fe234",
   "metadata": {
    "papermill": {
     "duration": 0.023499,
     "end_time": "2024-01-05T13:49:57.261746",
     "exception": false,
     "start_time": "2024-01-05T13:49:57.238247",
     "status": "completed"
    },
    "tags": []
   },
   "source": [
    "# **Count of Fraud/Non-Fraud Records¶**"
   ]
  },
  {
   "cell_type": "code",
   "execution_count": 8,
   "id": "09134117",
   "metadata": {
    "execution": {
     "iopub.execute_input": "2024-01-05T13:49:57.312818Z",
     "iopub.status.busy": "2024-01-05T13:49:57.312363Z",
     "iopub.status.idle": "2024-01-05T13:49:57.321010Z",
     "shell.execute_reply": "2024-01-05T13:49:57.319413Z"
    },
    "papermill": {
     "duration": 0.038835,
     "end_time": "2024-01-05T13:49:57.324101",
     "exception": false,
     "start_time": "2024-01-05T13:49:57.285266",
     "status": "completed"
    },
    "tags": []
   },
   "outputs": [
    {
     "name": "stdout",
     "output_type": "stream",
     "text": [
      "Class Distribution:\n",
      "Class\n",
      "0    10000\n",
      "1      469\n",
      "Name: count, dtype: int64\n"
     ]
    }
   ],
   "source": [
    "class_counts = random_sample_df['Class'].value_counts()\n",
    "print(\"Class Distribution:\")\n",
    "print(class_counts)"
   ]
  },
  {
   "cell_type": "markdown",
   "id": "1b72db1b",
   "metadata": {
    "papermill": {
     "duration": 0.026012,
     "end_time": "2024-01-05T13:49:57.373721",
     "exception": false,
     "start_time": "2024-01-05T13:49:57.347709",
     "status": "completed"
    },
    "tags": []
   },
   "source": [
    "# **DATA PREPROCESSING **\n",
    "* Drop duplicate records\n",
    "* Split features and label\n",
    "* Outliers identification and removal"
   ]
  },
  {
   "cell_type": "markdown",
   "id": "28976ad3",
   "metadata": {
    "papermill": {
     "duration": 0.025891,
     "end_time": "2024-01-05T13:49:57.425374",
     "exception": false,
     "start_time": "2024-01-05T13:49:57.399483",
     "status": "completed"
    },
    "tags": []
   },
   "source": [
    "# **Drop duplicate records**"
   ]
  },
  {
   "cell_type": "code",
   "execution_count": 9,
   "id": "61ddf332",
   "metadata": {
    "execution": {
     "iopub.execute_input": "2024-01-05T13:49:57.480329Z",
     "iopub.status.busy": "2024-01-05T13:49:57.479873Z",
     "iopub.status.idle": "2024-01-05T13:49:57.538093Z",
     "shell.execute_reply": "2024-01-05T13:49:57.536432Z"
    },
    "papermill": {
     "duration": 0.088697,
     "end_time": "2024-01-05T13:49:57.541124",
     "exception": false,
     "start_time": "2024-01-05T13:49:57.452427",
     "status": "completed"
    },
    "tags": []
   },
   "outputs": [
    {
     "name": "stdout",
     "output_type": "stream",
     "text": [
      "           Time        V1        V2        V3        V4        V5        V6  \\\n",
      "0       62538.0  1.093688 -0.123989  1.380520  1.283623 -1.085386 -0.014911   \n",
      "1       22566.0 -1.772826 -0.540115  2.172017 -2.109174  0.462264 -0.141527   \n",
      "2      153948.0  2.156591 -0.760941 -1.275143 -0.890670 -0.574581 -1.057300   \n",
      "3      136261.0  0.878862 -2.769036 -1.329463  1.004904 -1.463248  0.156821   \n",
      "4      105369.0 -1.127617  0.743345  0.411072 -1.096808  1.958827  0.006477   \n",
      "...         ...       ...       ...       ...       ...       ...       ...   \n",
      "10464   43537.0  1.206519 -0.721788 -0.489190 -0.902929  1.295684  3.883517   \n",
      "10465  128493.0  2.034027 -0.208329 -0.879314  0.029074 -0.236303 -0.731470   \n",
      "10466   61446.0 -0.891747  1.137517  1.267979 -0.092807 -0.235736 -0.290039   \n",
      "10467   88396.0  1.749326 -0.392480 -1.968671  0.645189 -0.032361 -1.408573   \n",
      "10468   28022.0 -0.958739  0.425510  1.989221 -2.061040 -0.628631 -0.290177   \n",
      "\n",
      "             V7        V8        V9  ...       V21       V22       V23  \\\n",
      "0     -0.700241  0.259531  0.714858  ... -0.004138  0.125153  0.015095   \n",
      "1     -0.432903  0.258443  0.147647  ... -0.624382 -1.275493 -0.059283   \n",
      "2     -0.351882 -0.217310 -0.641860  ...  0.083474  0.214863  0.202985   \n",
      "3     -0.147516  0.059233 -0.113772  ...  0.047635 -0.773336 -0.290858   \n",
      "4      0.705128  0.122022  0.863536  ... -0.502511 -1.495520 -0.341358   \n",
      "...         ...       ...       ...  ...       ...       ...       ...   \n",
      "10464 -1.192475  1.046148  1.071983  ... -0.268373 -0.735007  0.017248   \n",
      "10465 -0.198128 -0.041502  0.457284  ... -0.441941 -1.362492  0.516908   \n",
      "10466  0.159561  0.641001 -0.823529  ... -0.087059 -0.354806  0.089695   \n",
      "10467  0.415722 -0.367783  0.746665  ...  0.272969  0.538433 -0.170481   \n",
      "10468 -0.065028  0.182065 -1.162344  ...  0.297853  0.873839 -0.421018   \n",
      "\n",
      "            V24       V25       V26       V27       V28  Amount  Class  \n",
      "0      0.515887  0.335365 -0.436673  0.064717  0.028840    9.99      0  \n",
      "1     -0.409947 -0.180167  0.290497 -0.289127  0.159046   27.60      0  \n",
      "2      0.009860 -0.092958 -0.296639 -0.045492 -0.074020   15.00      0  \n",
      "3     -0.589672 -0.484991 -0.716090 -0.067540  0.054733  616.00      0  \n",
      "4     -0.562799  0.610801  0.206781 -0.269433  0.120213    4.49      0  \n",
      "...         ...       ...       ...       ...       ...     ...    ...  \n",
      "10464  1.078930  0.283766  0.954519 -0.037354  0.012975   39.77      0  \n",
      "10465 -0.415488 -0.743053  0.024739 -0.077906 -0.064244    0.68      0  \n",
      "10466  0.200690 -0.301992  0.073024  0.151061  0.039990    8.99      0  \n",
      "10467 -0.195450  0.175793 -0.108194 -0.040723 -0.006328  167.83      0  \n",
      "10468  0.017633  0.596830 -0.163001  0.392844  0.174891   18.40      0  \n",
      "\n",
      "[10450 rows x 31 columns]\n"
     ]
    }
   ],
   "source": [
    "random_sample_df.drop_duplicates(inplace=True)\n",
    "print(random_sample_df)"
   ]
  },
  {
   "cell_type": "markdown",
   "id": "b2ea4a62",
   "metadata": {
    "papermill": {
     "duration": 0.025065,
     "end_time": "2024-01-05T13:49:57.591241",
     "exception": false,
     "start_time": "2024-01-05T13:49:57.566176",
     "status": "completed"
    },
    "tags": []
   },
   "source": [
    "# **Split features and label**"
   ]
  },
  {
   "cell_type": "code",
   "execution_count": 10,
   "id": "6eaa48bf",
   "metadata": {
    "execution": {
     "iopub.execute_input": "2024-01-05T13:49:57.645487Z",
     "iopub.status.busy": "2024-01-05T13:49:57.644703Z",
     "iopub.status.idle": "2024-01-05T13:49:57.653241Z",
     "shell.execute_reply": "2024-01-05T13:49:57.651922Z"
    },
    "papermill": {
     "duration": 0.03924,
     "end_time": "2024-01-05T13:49:57.656191",
     "exception": false,
     "start_time": "2024-01-05T13:49:57.616951",
     "status": "completed"
    },
    "tags": []
   },
   "outputs": [],
   "source": [
    "X = random_sample_df.drop([\"Class\"], axis=1)\n",
    "Y = random_sample_df[\"Class\"]"
   ]
  },
  {
   "cell_type": "markdown",
   "id": "3f9073e3",
   "metadata": {
    "papermill": {
     "duration": 0.02496,
     "end_time": "2024-01-05T13:49:57.705981",
     "exception": false,
     "start_time": "2024-01-05T13:49:57.681021",
     "status": "completed"
    },
    "tags": []
   },
   "source": [
    "# **Outliers identification and removal**"
   ]
  },
  {
   "cell_type": "code",
   "execution_count": 11,
   "id": "d5bd4a33",
   "metadata": {
    "execution": {
     "iopub.execute_input": "2024-01-05T13:49:57.758258Z",
     "iopub.status.busy": "2024-01-05T13:49:57.757793Z",
     "iopub.status.idle": "2024-01-05T13:50:00.012398Z",
     "shell.execute_reply": "2024-01-05T13:50:00.011194Z"
    },
    "papermill": {
     "duration": 2.288977,
     "end_time": "2024-01-05T13:50:00.020047",
     "exception": false,
     "start_time": "2024-01-05T13:49:57.731070",
     "status": "completed"
    },
    "tags": []
   },
   "outputs": [
    {
     "name": "stdout",
     "output_type": "stream",
     "text": [
      "           Time        V1        V2        V3        V4        V5        V6  \\\n",
      "0       62538.0  1.093688 -0.123989  1.380520  1.283623 -1.085386 -0.014911   \n",
      "1       22566.0 -1.772826 -0.540115  2.172017 -2.109174  0.462264 -0.141527   \n",
      "2      153948.0  2.156591 -0.760941 -1.275143 -0.890670 -0.574581 -1.057300   \n",
      "3      136261.0  0.878862 -2.769036 -1.329463  1.004904 -1.463248  0.156821   \n",
      "4      105369.0 -1.127617  0.743345  0.411072 -1.096808  1.958827  0.006477   \n",
      "...         ...       ...       ...       ...       ...       ...       ...   \n",
      "10100   43537.0  1.206519 -0.721788 -0.489190 -0.902929  1.295684  3.883517   \n",
      "10101  128493.0  2.034027 -0.208329 -0.879314  0.029074 -0.236303 -0.731470   \n",
      "10102   61446.0 -0.891747  1.137517  1.267979 -0.092807 -0.235736 -0.290039   \n",
      "10103   88396.0  1.749326 -0.392480 -1.968671  0.645189 -0.032361 -1.408573   \n",
      "10104   28022.0 -0.958739  0.425510  1.989221 -2.061040 -0.628631 -0.290177   \n",
      "\n",
      "             V7        V8        V9  ...       V20       V21       V22  \\\n",
      "0     -0.700241  0.259531  0.714858  ... -0.169815 -0.004138  0.125153   \n",
      "1     -0.432903  0.258443  0.147647  ... -0.909399 -0.624382 -1.275493   \n",
      "2     -0.351882 -0.217310 -0.641860  ... -0.090833  0.083474  0.214863   \n",
      "3     -0.147516  0.059233 -0.113772  ...  0.395656  0.047635 -0.773336   \n",
      "4      0.705128  0.122022  0.863536  ... -0.145231 -0.502511 -1.495520   \n",
      "...         ...       ...       ...  ...       ...       ...       ...   \n",
      "10100 -1.192475  1.046148  1.071983  ...  0.108956 -0.268373 -0.735007   \n",
      "10101 -0.198128 -0.041502  0.457284  ... -0.250819 -0.441941 -1.362492   \n",
      "10102  0.159561  0.641001 -0.823529  ... -0.022150 -0.087059 -0.354806   \n",
      "10103  0.415722 -0.367783  0.746665  ...  0.063292  0.272969  0.538433   \n",
      "10104 -0.065028  0.182065 -1.162344  ...  0.378388  0.297853  0.873839   \n",
      "\n",
      "            V23       V24       V25       V26       V27       V28  Amount  \n",
      "0      0.015095  0.515887  0.335365 -0.436673  0.064717  0.028840    9.99  \n",
      "1     -0.059283 -0.409947 -0.180167  0.290497 -0.289127  0.159046   27.60  \n",
      "2      0.202985  0.009860 -0.092958 -0.296639 -0.045492 -0.074020   15.00  \n",
      "3     -0.290858 -0.589672 -0.484991 -0.716090 -0.067540  0.054733  616.00  \n",
      "4     -0.341358 -0.562799  0.610801  0.206781 -0.269433  0.120213    4.49  \n",
      "...         ...       ...       ...       ...       ...       ...     ...  \n",
      "10100  0.017248  1.078930  0.283766  0.954519 -0.037354  0.012975   39.77  \n",
      "10101  0.516908 -0.415488 -0.743053  0.024739 -0.077906 -0.064244    0.68  \n",
      "10102  0.089695  0.200690 -0.301992  0.073024  0.151061  0.039990    8.99  \n",
      "10103 -0.170481 -0.195450  0.175793 -0.108194 -0.040723 -0.006328  167.83  \n",
      "10104 -0.421018  0.017633  0.596830 -0.163001  0.392844  0.174891   18.40  \n",
      "\n",
      "[10105 rows x 30 columns]\n",
      "0        0\n",
      "1        0\n",
      "2        0\n",
      "3        0\n",
      "4        0\n",
      "        ..\n",
      "10100    0\n",
      "10101    0\n",
      "10102    0\n",
      "10103    0\n",
      "10104    0\n",
      "Name: Class, Length: 10105, dtype: int64\n"
     ]
    }
   ],
   "source": [
    "import pandas as pd\n",
    "import numpy as np\n",
    "from scipy.spatial.distance import mahalanobis\n",
    "\n",
    "# Resetting index for X and Y\n",
    "X = X.reset_index(drop=True)\n",
    "Y = Y.reset_index(drop=True)\n",
    "\n",
    "# Calculate Mahalanobis distance\n",
    "covariance = np.cov(X.T)\n",
    "mean = np.mean(X, axis=0)\n",
    "distances = [mahalanobis(x, mean, np.linalg.inv(covariance)) for x in X.values]\n",
    "\n",
    "# Define the threshold for outliers\n",
    "threshold = np.mean(distances) + 2 * np.std(distances)\n",
    "\n",
    "# Identify and handle outliers\n",
    "outlier_mask = np.array(distances) > threshold\n",
    "X_no_outliers = X.loc[~outlier_mask].reset_index(drop=True)\n",
    "Y_no_outliers = Y.loc[~outlier_mask].reset_index(drop=True)\n",
    "\n",
    "# Alternatively, replace outliers with the median\n",
    "X_handled_outliers = X.copy()\n",
    "X_handled_outliers[outlier_mask] = X.median()\n",
    "\n",
    "# Display the modified feature set and labels\n",
    "print(X_no_outliers)\n",
    "print(Y_no_outliers)\n"
   ]
  },
  {
   "cell_type": "markdown",
   "id": "14d313d6",
   "metadata": {
    "papermill": {
     "duration": 0.023442,
     "end_time": "2024-01-05T13:50:00.093007",
     "exception": false,
     "start_time": "2024-01-05T13:50:00.069565",
     "status": "completed"
    },
    "tags": []
   },
   "source": []
  },
  {
   "cell_type": "markdown",
   "id": "19196883",
   "metadata": {
    "papermill": {
     "duration": 0.024447,
     "end_time": "2024-01-05T13:50:00.142858",
     "exception": false,
     "start_time": "2024-01-05T13:50:00.118411",
     "status": "completed"
    },
    "tags": []
   },
   "source": [
    "# **MODEL TRAINING**"
   ]
  },
  {
   "cell_type": "markdown",
   "id": "af8d8e37",
   "metadata": {
    "papermill": {
     "duration": 0.025116,
     "end_time": "2024-01-05T13:50:00.192844",
     "exception": false,
     "start_time": "2024-01-05T13:50:00.167728",
     "status": "completed"
    },
    "tags": []
   },
   "source": [
    "# **Splitting train and test data**"
   ]
  },
  {
   "cell_type": "code",
   "execution_count": 12,
   "id": "c61d3dea",
   "metadata": {
    "execution": {
     "iopub.execute_input": "2024-01-05T13:50:00.249480Z",
     "iopub.status.busy": "2024-01-05T13:50:00.249031Z",
     "iopub.status.idle": "2024-01-05T13:50:02.013249Z",
     "shell.execute_reply": "2024-01-05T13:50:02.010855Z"
    },
    "papermill": {
     "duration": 1.799155,
     "end_time": "2024-01-05T13:50:02.016816",
     "exception": false,
     "start_time": "2024-01-05T13:50:00.217661",
     "status": "completed"
    },
    "tags": []
   },
   "outputs": [],
   "source": [
    "from sklearn.model_selection import train_test_split\n",
    "from sklearn.tree import DecisionTreeClassifier\n",
    "import numpy as np\n",
    "\n",
    "X_train, X_test, Y_train, Y_test = train_test_split(X_no_outliers, Y_no_outliers, test_size=0.3, random_state=42)\n"
   ]
  },
  {
   "cell_type": "markdown",
   "id": "a64f87e1",
   "metadata": {
    "papermill": {
     "duration": 0.029932,
     "end_time": "2024-01-05T13:50:02.073069",
     "exception": false,
     "start_time": "2024-01-05T13:50:02.043137",
     "status": "completed"
    },
    "tags": []
   },
   "source": [
    "# **Selecting Top Effective Features**"
   ]
  },
  {
   "cell_type": "code",
   "execution_count": 13,
   "id": "586d4efa",
   "metadata": {
    "execution": {
     "iopub.execute_input": "2024-01-05T13:50:02.132221Z",
     "iopub.status.busy": "2024-01-05T13:50:02.131696Z",
     "iopub.status.idle": "2024-01-05T13:50:02.321575Z",
     "shell.execute_reply": "2024-01-05T13:50:02.319981Z"
    },
    "papermill": {
     "duration": 0.225361,
     "end_time": "2024-01-05T13:50:02.324797",
     "exception": false,
     "start_time": "2024-01-05T13:50:02.099436",
     "status": "completed"
    },
    "tags": []
   },
   "outputs": [],
   "source": [
    "# Train the decision tree model\n",
    "model = DecisionTreeClassifier(random_state=42, min_samples_leaf=10, max_depth=4, criterion=\"entropy\")\n",
    "model.fit(X_train, Y_train)\n",
    "\n",
    "# Get feature importances\n",
    "feature_importances = model.feature_importances_\n",
    "\n",
    "# Sort feature importances in descending order and get the indices\n",
    "indices = np.argsort(feature_importances)[::-1]\n",
    "\n",
    "# Select the top N features (e.g., top 10)\n",
    "top_n = 10\n",
    "top_n_features = X_train.columns[indices[:top_n]]\n",
    "\n",
    "# Subset the training and test sets with the top N features\n",
    "X_train_selected = X_train[top_n_features]\n",
    "X_test_selected = X_test[top_n_features]"
   ]
  },
  {
   "cell_type": "markdown",
   "id": "51ba9165",
   "metadata": {
    "papermill": {
     "duration": 0.027181,
     "end_time": "2024-01-05T13:50:02.379089",
     "exception": false,
     "start_time": "2024-01-05T13:50:02.351908",
     "status": "completed"
    },
    "tags": []
   },
   "source": []
  },
  {
   "cell_type": "markdown",
   "id": "eee2dd18",
   "metadata": {
    "papermill": {
     "duration": 0.027193,
     "end_time": "2024-01-05T13:50:02.433630",
     "exception": false,
     "start_time": "2024-01-05T13:50:02.406437",
     "status": "completed"
    },
    "tags": []
   },
   "source": [
    "# **Standard Scaling**"
   ]
  },
  {
   "cell_type": "code",
   "execution_count": 14,
   "id": "462e95a9",
   "metadata": {
    "execution": {
     "iopub.execute_input": "2024-01-05T13:50:02.486820Z",
     "iopub.status.busy": "2024-01-05T13:50:02.486358Z",
     "iopub.status.idle": "2024-01-05T13:50:02.501604Z",
     "shell.execute_reply": "2024-01-05T13:50:02.500420Z"
    },
    "papermill": {
     "duration": 0.045357,
     "end_time": "2024-01-05T13:50:02.504623",
     "exception": false,
     "start_time": "2024-01-05T13:50:02.459266",
     "status": "completed"
    },
    "tags": []
   },
   "outputs": [],
   "source": [
    "from sklearn.preprocessing import StandardScaler\n",
    "\n",
    "scaler = StandardScaler()\n",
    "X_train_scaled = scaler.fit_transform(X_train_selected)\n",
    "X_test_scaled = scaler.transform(X_test_selected)"
   ]
  },
  {
   "cell_type": "markdown",
   "id": "0de95348",
   "metadata": {
    "papermill": {
     "duration": 0.026277,
     "end_time": "2024-01-05T13:50:02.559777",
     "exception": false,
     "start_time": "2024-01-05T13:50:02.533500",
     "status": "completed"
    },
    "tags": []
   },
   "source": [
    "#  MODEL SELECTION , MODEL EVALUATION & PREDICTION"
   ]
  },
  {
   "cell_type": "markdown",
   "id": "43641578",
   "metadata": {
    "papermill": {
     "duration": 0.025565,
     "end_time": "2024-01-05T13:50:02.612515",
     "exception": false,
     "start_time": "2024-01-05T13:50:02.586950",
     "status": "completed"
    },
    "tags": []
   },
   "source": [
    "# **Decision Tree Model Training** "
   ]
  },
  {
   "cell_type": "code",
   "execution_count": 15,
   "id": "4e061702",
   "metadata": {
    "execution": {
     "iopub.execute_input": "2024-01-05T13:50:02.671396Z",
     "iopub.status.busy": "2024-01-05T13:50:02.670936Z",
     "iopub.status.idle": "2024-01-05T13:50:02.739648Z",
     "shell.execute_reply": "2024-01-05T13:50:02.738236Z"
    },
    "papermill": {
     "duration": 0.103086,
     "end_time": "2024-01-05T13:50:02.742965",
     "exception": false,
     "start_time": "2024-01-05T13:50:02.639879",
     "status": "completed"
    },
    "tags": []
   },
   "outputs": [],
   "source": [
    "from sklearn.tree import DecisionTreeClassifier , plot_tree\n",
    "from sklearn.metrics import accuracy_score, classification_report, confusion_matrix\n",
    "import matplotlib.pyplot as plt\n",
    "\n",
    "dt_model = DecisionTreeClassifier(random_state=42,min_samples_leaf=10, max_depth=4,criterion=\"entropy\")\n",
    "\n",
    "# Train the model on the training data\n",
    "dt_model.fit(X_train_selected, Y_train)\n",
    "\n",
    "# Make predictions on the test set\n",
    "Y_pred = dt_model.predict(X_test_selected)"
   ]
  },
  {
   "cell_type": "markdown",
   "id": "f8b3359c",
   "metadata": {
    "papermill": {
     "duration": 0.026326,
     "end_time": "2024-01-05T13:50:02.793604",
     "exception": false,
     "start_time": "2024-01-05T13:50:02.767278",
     "status": "completed"
    },
    "tags": []
   },
   "source": [
    "# **Decision Tree Model Plotting**"
   ]
  },
  {
   "cell_type": "code",
   "execution_count": 16,
   "id": "9ae9efe7",
   "metadata": {
    "execution": {
     "iopub.execute_input": "2024-01-05T13:50:02.849352Z",
     "iopub.status.busy": "2024-01-05T13:50:02.848692Z",
     "iopub.status.idle": "2024-01-05T13:50:04.480314Z",
     "shell.execute_reply": "2024-01-05T13:50:04.478922Z"
    },
    "papermill": {
     "duration": 1.664292,
     "end_time": "2024-01-05T13:50:04.485083",
     "exception": false,
     "start_time": "2024-01-05T13:50:02.820791",
     "status": "completed"
    },
    "tags": []
   },
   "outputs": [
    {
     "data": {
      "image/png": "[encoded data removed]",
      "text/plain": [
       "<Figure size 2500x2000 with 1 Axes>"
      ]
     },
     "metadata": {},
     "output_type": "display_data"
    }
   ],
   "source": [
    "# Visualize the decision tree\n",
    "plt.figure(figsize=(25, 20))\n",
    "plot_tree(dt_model, filled=True, feature_names=X_no_outliers.columns, class_names=['Non-Fraud', 'Fraud'], rounded=True, fontsize=10)\n",
    "plt.show()"
   ]
  },
  {
   "cell_type": "markdown",
   "id": "c99d1aa8",
   "metadata": {
    "papermill": {
     "duration": 0.029765,
     "end_time": "2024-01-05T13:50:04.544603",
     "exception": false,
     "start_time": "2024-01-05T13:50:04.514838",
     "status": "completed"
    },
    "tags": []
   },
   "source": [
    "# **Decision Tree Model Evaluation**"
   ]
  },
  {
   "cell_type": "code",
   "execution_count": 17,
   "id": "535bf612",
   "metadata": {
    "execution": {
     "iopub.execute_input": "2024-01-05T13:50:04.604478Z",
     "iopub.status.busy": "2024-01-05T13:50:04.604041Z",
     "iopub.status.idle": "2024-01-05T13:50:04.637730Z",
     "shell.execute_reply": "2024-01-05T13:50:04.636757Z"
    },
    "papermill": {
     "duration": 0.06719,
     "end_time": "2024-01-05T13:50:04.640760",
     "exception": false,
     "start_time": "2024-01-05T13:50:04.573570",
     "status": "completed"
    },
    "tags": []
   },
   "outputs": [
    {
     "name": "stdout",
     "output_type": "stream",
     "text": [
      "\n",
      "Classification Report:\n",
      "              precision    recall  f1-score   support\n",
      "\n",
      "           0       0.99      1.00      1.00      2935\n",
      "           1       0.97      0.80      0.88        97\n",
      "\n",
      "    accuracy                           0.99      3032\n",
      "   macro avg       0.98      0.90      0.94      3032\n",
      "weighted avg       0.99      0.99      0.99      3032\n",
      "\n",
      "\n",
      "Confusion Matrix:\n",
      "[[2933    2]\n",
      " [  19   78]]\n",
      "\n",
      "Accuracy: 0.9930738786279684\n",
      "Precision: 0.9929697946385796\n",
      "Recall: 0.9930738786279684\n",
      "F1 Score: 0.992751268624704\n"
     ]
    }
   ],
   "source": [
    "from sklearn.metrics import accuracy_score, classification_report, confusion_matrix, precision_recall_fscore_support\n",
    "\n",
    "# Assuming you have Y_test and Y_pred defined\n",
    "# ...\n",
    "\n",
    "# Evaluate the model\n",
    "accuracy = accuracy_score(Y_test, Y_pred)\n",
    "classification_report_result = classification_report(Y_test, Y_pred)\n",
    "confusion_matrix_result = confusion_matrix(Y_test, Y_pred)\n",
    "\n",
    "# Print the results\n",
    "print(\"\\nClassification Report:\")\n",
    "print(classification_report_result)\n",
    "print(\"\\nConfusion Matrix:\")\n",
    "print(confusion_matrix_result)\n",
    "\n",
    "# Extract precision, recall, and F1-score from the classification report\n",
    "precision, recall, f1_score, _ = precision_recall_fscore_support(Y_test, Y_pred, average='weighted')\n",
    "\n",
    "# Print precision, recall, and F1-score\n",
    "print(f\"\\nAccuracy: {accuracy}\")\n",
    "print(\"Precision:\", precision)\n",
    "print(\"Recall:\", recall)\n",
    "print(\"F1 Score:\", f1_score)\n"
   ]
  },
  {
   "cell_type": "markdown",
   "id": "74f587bd",
   "metadata": {
    "papermill": {
     "duration": 0.028709,
     "end_time": "2024-01-05T13:50:04.698322",
     "exception": false,
     "start_time": "2024-01-05T13:50:04.669613",
     "status": "completed"
    },
    "tags": []
   },
   "source": [
    "# **Decision Tree Model Confusion Matrix Plotting**"
   ]
  },
  {
   "cell_type": "code",
   "execution_count": 18,
   "id": "088752f8",
   "metadata": {
    "execution": {
     "iopub.execute_input": "2024-01-05T13:50:04.762124Z",
     "iopub.status.busy": "2024-01-05T13:50:04.761111Z",
     "iopub.status.idle": "2024-01-05T13:50:05.188902Z",
     "shell.execute_reply": "2024-01-05T13:50:05.187939Z"
    },
    "papermill": {
     "duration": 0.461886,
     "end_time": "2024-01-05T13:50:05.191288",
     "exception": false,
     "start_time": "2024-01-05T13:50:04.729402",
     "status": "completed"
    },
    "tags": []
   },
   "outputs": [
    {
     "data": {
      "text/plain": [
       "<Axes: title={'center': 'Confusion Matrix'}, xlabel='Predicted label', ylabel='True label'>"
      ]
     },
     "execution_count": 18,
     "metadata": {},
     "output_type": "execute_result"
    },
    {
     "data": {
      "image/png": "[encoded data removed]",
      "text/plain": [
       "<Figure size 640x480 with 2 Axes>"
      ]
     },
     "metadata": {},
     "output_type": "display_data"
    }
   ],
   "source": [
    "import scikitplot as skplt\n",
    "\n",
    "skplt.metrics.plot_confusion_matrix(Y_test, Y_pred)"
   ]
  },
  {
   "cell_type": "markdown",
   "id": "bbd16158",
   "metadata": {
    "papermill": {
     "duration": 0.030927,
     "end_time": "2024-01-05T13:50:05.251460",
     "exception": false,
     "start_time": "2024-01-05T13:50:05.220533",
     "status": "completed"
    },
    "tags": []
   },
   "source": [
    "# **Decision Tree Model Overfitting/Underfitting**"
   ]
  },
  {
   "cell_type": "code",
   "execution_count": 19,
   "id": "05392fc9",
   "metadata": {
    "execution": {
     "iopub.execute_input": "2024-01-05T13:50:05.313819Z",
     "iopub.status.busy": "2024-01-05T13:50:05.313375Z",
     "iopub.status.idle": "2024-01-05T13:50:05.331597Z",
     "shell.execute_reply": "2024-01-05T13:50:05.329611Z"
    },
    "papermill": {
     "duration": 0.05474,
     "end_time": "2024-01-05T13:50:05.335335",
     "exception": false,
     "start_time": "2024-01-05T13:50:05.280595",
     "status": "completed"
    },
    "tags": []
   },
   "outputs": [
    {
     "name": "stdout",
     "output_type": "stream",
     "text": [
      "Training set score: 0.9934\n",
      "Test set score: 0.9931\n"
     ]
    }
   ],
   "source": [
    "print('Training set score: {:.4f}'.format(dt_model.score(X_train_selected, Y_train)))\n",
    "\n",
    "print('Test set score: {:.4f}'.format(dt_model.score(X_test_selected, Y_test)))"
   ]
  },
  {
   "cell_type": "markdown",
   "id": "7794ef38",
   "metadata": {
    "papermill": {
     "duration": 0.030539,
     "end_time": "2024-01-05T13:50:05.396078",
     "exception": false,
     "start_time": "2024-01-05T13:50:05.365539",
     "status": "completed"
    },
    "tags": []
   },
   "source": [
    "# **Decision Tree Model Cross Validation**"
   ]
  },
  {
   "cell_type": "code",
   "execution_count": 20,
   "id": "60514d89",
   "metadata": {
    "execution": {
     "iopub.execute_input": "2024-01-05T13:50:05.461651Z",
     "iopub.status.busy": "2024-01-05T13:50:05.461087Z",
     "iopub.status.idle": "2024-01-05T13:50:14.170138Z",
     "shell.execute_reply": "2024-01-05T13:50:14.168594Z"
    },
    "papermill": {
     "duration": 8.744575,
     "end_time": "2024-01-05T13:50:14.173932",
     "exception": false,
     "start_time": "2024-01-05T13:50:05.429357",
     "status": "completed"
    },
    "tags": []
   },
   "outputs": [
    {
     "name": "stdout",
     "output_type": "stream",
     "text": [
      "Accuracy: 0.9921818413295334\n",
      "Precision: 0.9586894586894588\n",
      "Recall: 0.7838709677419354\n",
      "F1 Score: 0.8586606514181095\n"
     ]
    }
   ],
   "source": [
    "from sklearn.model_selection import cross_val_score, StratifiedKFold\n",
    "from sklearn.metrics import make_scorer, precision_score, accuracy_score, f1_score\n",
    "import numpy as np\n",
    "\n",
    "# Define the precision scorer with zero_division parameter\n",
    "precision_scorer = make_scorer(precision_score, zero_division=1)\n",
    "\n",
    "# Define the number of folds (k)\n",
    "num_folds = 10\n",
    "\n",
    "cv = StratifiedKFold(n_splits=num_folds, shuffle=True, random_state=42)\n",
    "\n",
    "# Perform cross-validation and get scores for each metric\n",
    "precision_scores = cross_val_score(dt_model, X_no_outliers, Y_no_outliers, cv=cv, scoring=precision_scorer)\n",
    "accuracy_scores = cross_val_score(dt_model, X_no_outliers, Y_no_outliers, cv=cv, scoring='accuracy')\n",
    "f1_scores = cross_val_score(dt_model, X_no_outliers, Y_no_outliers, cv=cv, scoring='f1')\n",
    "recall_scores = cross_val_score(dt_model, X_no_outliers, Y_no_outliers, cv=cv,scoring='recall')\n",
    "\n",
    "# Print the average scores\n",
    "print(f'Accuracy: {np.mean(accuracy_scores)}')\n",
    "print(f'Precision: {np.mean(precision_scores)}')\n",
    "print(f'Recall: {np.mean(recall_scores)}')\n",
    "print(f'F1 Score: {np.mean(f1_scores)}')"
   ]
  },
  {
   "cell_type": "markdown",
   "id": "f6859567",
   "metadata": {
    "papermill": {
     "duration": 0.031688,
     "end_time": "2024-01-05T13:50:14.238271",
     "exception": false,
     "start_time": "2024-01-05T13:50:14.206583",
     "status": "completed"
    },
    "tags": []
   },
   "source": [
    "# **Gradient Boosting Model**"
   ]
  },
  {
   "cell_type": "code",
   "execution_count": 21,
   "id": "438ba09c",
   "metadata": {
    "execution": {
     "iopub.execute_input": "2024-01-05T13:50:14.302138Z",
     "iopub.status.busy": "2024-01-05T13:50:14.301688Z",
     "iopub.status.idle": "2024-01-05T13:50:14.403763Z",
     "shell.execute_reply": "2024-01-05T13:50:14.402196Z"
    },
    "papermill": {
     "duration": 0.138193,
     "end_time": "2024-01-05T13:50:14.406722",
     "exception": false,
     "start_time": "2024-01-05T13:50:14.268529",
     "status": "completed"
    },
    "tags": []
   },
   "outputs": [],
   "source": [
    "from sklearn.ensemble import GradientBoostingClassifier\n",
    "from sklearn.metrics import accuracy_score, classification_report, confusion_matrix\n",
    "\n",
    "gb_model = GradientBoostingClassifier(n_estimators=70, learning_rate=0.1, max_depth=3, random_state=42)"
   ]
  },
  {
   "cell_type": "markdown",
   "id": "64af0937",
   "metadata": {
    "papermill": {
     "duration": 0.029544,
     "end_time": "2024-01-05T13:50:14.466453",
     "exception": false,
     "start_time": "2024-01-05T13:50:14.436909",
     "status": "completed"
    },
    "tags": []
   },
   "source": [
    "# **Gradient Boosting Model Training and Evaluation**"
   ]
  },
  {
   "cell_type": "code",
   "execution_count": 22,
   "id": "625c86ff",
   "metadata": {
    "execution": {
     "iopub.execute_input": "2024-01-05T13:50:14.532223Z",
     "iopub.status.busy": "2024-01-05T13:50:14.531561Z",
     "iopub.status.idle": "2024-01-05T13:50:16.719901Z",
     "shell.execute_reply": "2024-01-05T13:50:16.718041Z"
    },
    "papermill": {
     "duration": 2.225466,
     "end_time": "2024-01-05T13:50:16.723121",
     "exception": false,
     "start_time": "2024-01-05T13:50:14.497655",
     "status": "completed"
    },
    "tags": []
   },
   "outputs": [
    {
     "name": "stdout",
     "output_type": "stream",
     "text": [
      "Classification Report:\n",
      "               precision    recall  f1-score   support\n",
      "\n",
      "           0       0.99      1.00      1.00      2935\n",
      "           1       0.95      0.85      0.90        97\n",
      "\n",
      "    accuracy                           0.99      3032\n",
      "   macro avg       0.97      0.92      0.95      3032\n",
      "weighted avg       0.99      0.99      0.99      3032\n",
      "\n",
      "Confusion Matrix:\n",
      " [[2931    4]\n",
      " [  15   82]]\n",
      "\n",
      "Accuracy: 0.9930738786279684\n",
      "Precision: 0.9935832388653241\n",
      "Recall: 0.9937335092348285\n",
      "F1 Score: 0.9935510325974682\n"
     ]
    }
   ],
   "source": [
    "gb_model.fit(X_train_selected, Y_train)\n",
    "\n",
    "pred = gb_model.predict(X_test_selected)\n",
    "\n",
    "print(\"Classification Report:\\n\", classification_report(Y_test, pred))\n",
    "print(\"Confusion Matrix:\\n\", confusion_matrix(Y_test, pred))\n",
    "\n",
    "# Extract precision, recall, and F1-score from the classification report\n",
    "precision, recall, f1_score, _ = precision_recall_fscore_support(Y_test, pred, average='weighted')\n",
    "\n",
    "# Print precision, recall, and F1-score\n",
    "print(f\"\\nAccuracy: {accuracy}\")\n",
    "print(\"Precision:\", precision)\n",
    "print(\"Recall:\", recall)\n",
    "print(\"F1 Score:\", f1_score)"
   ]
  },
  {
   "cell_type": "markdown",
   "id": "9ee105df",
   "metadata": {
    "papermill": {
     "duration": 0.031598,
     "end_time": "2024-01-05T13:50:16.787485",
     "exception": false,
     "start_time": "2024-01-05T13:50:16.755887",
     "status": "completed"
    },
    "tags": []
   },
   "source": [
    "# **Gradient Boosting Model Confusion Matrix Plotting**"
   ]
  },
  {
   "cell_type": "code",
   "execution_count": 23,
   "id": "adc34931",
   "metadata": {
    "execution": {
     "iopub.execute_input": "2024-01-05T13:50:16.855617Z",
     "iopub.status.busy": "2024-01-05T13:50:16.855212Z",
     "iopub.status.idle": "2024-01-05T13:50:17.546023Z",
     "shell.execute_reply": "2024-01-05T13:50:17.544586Z"
    },
    "papermill": {
     "duration": 0.72826,
     "end_time": "2024-01-05T13:50:17.549060",
     "exception": false,
     "start_time": "2024-01-05T13:50:16.820800",
     "status": "completed"
    },
    "tags": []
   },
   "outputs": [
    {
     "data": {
      "image/png": "[encoded data removed]",
      "text/plain": [
       "<Figure size 400x200 with 2 Axes>"
      ]
     },
     "metadata": {},
     "output_type": "display_data"
    }
   ],
   "source": [
    "import matplotlib.pyplot as plt\n",
    "import seaborn as sns\n",
    "\n",
    "cm = confusion_matrix(Y_test, pred)\n",
    "plt.figure(figsize=(4, 2))\n",
    "sns.heatmap(cm, annot=True, fmt=\"d\", cmap=\"Blues\", xticklabels=gb_model.classes_, yticklabels=gb_model.classes_)\n",
    "plt.title(\"Confusion Matrix\")\n",
    "plt.xlabel(\"Predicted\")\n",
    "plt.ylabel(\"Actual\")\n",
    "plt.show()"
   ]
  },
  {
   "cell_type": "markdown",
   "id": "06ef92f7",
   "metadata": {
    "papermill": {
     "duration": 0.029857,
     "end_time": "2024-01-05T13:50:17.609388",
     "exception": false,
     "start_time": "2024-01-05T13:50:17.579531",
     "status": "completed"
    },
    "tags": []
   },
   "source": [
    "# **Gradient Boosting Model Overfitting/Underfitting**"
   ]
  },
  {
   "cell_type": "code",
   "execution_count": 24,
   "id": "a9912f5e",
   "metadata": {
    "execution": {
     "iopub.execute_input": "2024-01-05T13:50:17.677006Z",
     "iopub.status.busy": "2024-01-05T13:50:17.676416Z",
     "iopub.status.idle": "2024-01-05T13:50:17.702415Z",
     "shell.execute_reply": "2024-01-05T13:50:17.701203Z"
    },
    "papermill": {
     "duration": 0.064,
     "end_time": "2024-01-05T13:50:17.705446",
     "exception": false,
     "start_time": "2024-01-05T13:50:17.641446",
     "status": "completed"
    },
    "tags": []
   },
   "outputs": [
    {
     "name": "stdout",
     "output_type": "stream",
     "text": [
      "Training set score: 0.9983\n",
      "Test set score: 0.9937\n"
     ]
    }
   ],
   "source": [
    "print('Training set score: {:.4f}'.format(gb_model.score(X_train_selected, Y_train)))\n",
    "\n",
    "print('Test set score: {:.4f}'.format(gb_model.score(X_test_selected, Y_test)))"
   ]
  },
  {
   "cell_type": "markdown",
   "id": "2d5321f9",
   "metadata": {
    "papermill": {
     "duration": 0.030164,
     "end_time": "2024-01-05T13:50:17.765917",
     "exception": false,
     "start_time": "2024-01-05T13:50:17.735753",
     "status": "completed"
    },
    "tags": []
   },
   "source": [
    "# **Gradient Boosting Model Cross Validation**"
   ]
  },
  {
   "cell_type": "code",
   "execution_count": 25,
   "id": "3164c5df",
   "metadata": {
    "execution": {
     "iopub.execute_input": "2024-01-05T13:50:17.832833Z",
     "iopub.status.busy": "2024-01-05T13:50:17.831310Z",
     "iopub.status.idle": "2024-01-05T13:55:33.600843Z",
     "shell.execute_reply": "2024-01-05T13:55:33.599440Z"
    },
    "papermill": {
     "duration": 315.835375,
     "end_time": "2024-01-05T13:55:33.632810",
     "exception": false,
     "start_time": "2024-01-05T13:50:17.797435",
     "status": "completed"
    },
    "tags": []
   },
   "outputs": [
    {
     "name": "stdout",
     "output_type": "stream",
     "text": [
      "Accuracy: 0.9910930262165681\n",
      "Precision: 0.903410896431246\n",
      "Recall: 0.7995967741935484\n",
      "F1 Score: 0.845563529090966\n"
     ]
    }
   ],
   "source": [
    "# Perform cross-validation and get scores for each metric\n",
    "precision_scores = cross_val_score(gb_model, X_no_outliers, Y_no_outliers, cv=cv, scoring=precision_scorer)\n",
    "accuracy_scores = cross_val_score(gb_model, X_no_outliers, Y_no_outliers, cv=cv, scoring='accuracy')\n",
    "f1_scores = cross_val_score(gb_model, X_no_outliers, Y_no_outliers, cv=cv, scoring='f1')\n",
    "recall_scores = cross_val_score(gb_model, X_no_outliers, Y_no_outliers, cv=cv,scoring='recall')\n",
    "\n",
    "# Print the average scores\n",
    "print(f'Accuracy: {np.mean(accuracy_scores)}')\n",
    "print(f'Precision: {np.mean(precision_scores)}')\n",
    "print(f'Recall: {np.mean(recall_scores)}')\n",
    "print(f'F1 Score: {np.mean(f1_scores)}')"
   ]
  },
  {
   "cell_type": "markdown",
   "id": "6a9562e8",
   "metadata": {
    "papermill": {
     "duration": 0.030845,
     "end_time": "2024-01-05T13:55:33.694161",
     "exception": false,
     "start_time": "2024-01-05T13:55:33.663316",
     "status": "completed"
    },
    "tags": []
   },
   "source": [
    "# **Logistic Regression Model Training**"
   ]
  },
  {
   "cell_type": "code",
   "execution_count": 26,
   "id": "fd4f9cb6",
   "metadata": {
    "execution": {
     "iopub.execute_input": "2024-01-05T13:55:33.757220Z",
     "iopub.status.busy": "2024-01-05T13:55:33.756782Z",
     "iopub.status.idle": "2024-01-05T13:55:33.976106Z",
     "shell.execute_reply": "2024-01-05T13:55:33.973794Z"
    },
    "papermill": {
     "duration": 0.257223,
     "end_time": "2024-01-05T13:55:33.981135",
     "exception": false,
     "start_time": "2024-01-05T13:55:33.723912",
     "status": "completed"
    },
    "tags": []
   },
   "outputs": [],
   "source": [
    "from sklearn.linear_model import LogisticRegression\n",
    "\n",
    "logistic_regressor = LogisticRegression(max_iter=500)\n",
    "\n",
    "logistic_regressor.fit(X_train_selected, Y_train)\n",
    "L_pred = logistic_regressor.predict(X_test_selected)"
   ]
  },
  {
   "cell_type": "markdown",
   "id": "35a80a13",
   "metadata": {
    "papermill": {
     "duration": 0.053054,
     "end_time": "2024-01-05T13:55:34.101106",
     "exception": false,
     "start_time": "2024-01-05T13:55:34.048052",
     "status": "completed"
    },
    "tags": []
   },
   "source": [
    "# **Logistic Regression Model Evaluation**"
   ]
  },
  {
   "cell_type": "code",
   "execution_count": 27,
   "id": "1f84bbbe",
   "metadata": {
    "execution": {
     "iopub.execute_input": "2024-01-05T13:55:34.163352Z",
     "iopub.status.busy": "2024-01-05T13:55:34.162911Z",
     "iopub.status.idle": "2024-01-05T13:55:34.191141Z",
     "shell.execute_reply": "2024-01-05T13:55:34.189727Z"
    },
    "papermill": {
     "duration": 0.063152,
     "end_time": "2024-01-05T13:55:34.194520",
     "exception": false,
     "start_time": "2024-01-05T13:55:34.131368",
     "status": "completed"
    },
    "tags": []
   },
   "outputs": [
    {
     "name": "stdout",
     "output_type": "stream",
     "text": [
      "\n",
      "Classification Report:\n",
      "              precision    recall  f1-score   support\n",
      "\n",
      "           0       0.99      1.00      1.00      2935\n",
      "           1       0.99      0.82      0.90        97\n",
      "\n",
      "    accuracy                           0.99      3032\n",
      "   macro avg       0.99      0.91      0.95      3032\n",
      "weighted avg       0.99      0.99      0.99      3032\n",
      "\n",
      "\n",
      "Confusion Matrix:\n",
      "[[2934    1]\n",
      " [  17   80]]\n",
      "\n",
      "Accuracy: 0.9940633245382586\n",
      "Precision: 0.9940285756203291\n",
      "Recall: 0.9940633245382586\n",
      "F1 Score: 0.9938045765394985\n"
     ]
    }
   ],
   "source": [
    "# Evaluate the model\n",
    "accuracy = accuracy_score(Y_test, L_pred)\n",
    "classification_report_result = classification_report(Y_test, L_pred)\n",
    "confusion_matrix_result = confusion_matrix(Y_test, L_pred)\n",
    "\n",
    "# Print the results\n",
    "print(\"\\nClassification Report:\")\n",
    "print(classification_report_result)\n",
    "print(\"\\nConfusion Matrix:\")\n",
    "print(confusion_matrix_result)\n",
    "\n",
    "# Extract precision, recall, and F1-score from the classification report\n",
    "precision, recall, f1_score, _ = precision_recall_fscore_support(Y_test, L_pred, average='weighted', zero_division=1)\n",
    "\n",
    "# Print precision, recall, and F1-score\n",
    "print(f\"\\nAccuracy: {accuracy}\")\n",
    "print(\"Precision:\", precision)\n",
    "print(\"Recall:\", recall)\n",
    "print(\"F1 Score:\", f1_score)"
   ]
  },
  {
   "cell_type": "markdown",
   "id": "2b3a0217",
   "metadata": {
    "papermill": {
     "duration": 0.030052,
     "end_time": "2024-01-05T13:55:34.255822",
     "exception": false,
     "start_time": "2024-01-05T13:55:34.225770",
     "status": "completed"
    },
    "tags": []
   },
   "source": [
    "# **Logistic Regression Overfitting/Underfitting**"
   ]
  },
  {
   "cell_type": "code",
   "execution_count": 28,
   "id": "ea036940",
   "metadata": {
    "execution": {
     "iopub.execute_input": "2024-01-05T13:55:34.319434Z",
     "iopub.status.busy": "2024-01-05T13:55:34.318997Z",
     "iopub.status.idle": "2024-01-05T13:55:34.341736Z",
     "shell.execute_reply": "2024-01-05T13:55:34.340317Z"
    },
    "papermill": {
     "duration": 0.059572,
     "end_time": "2024-01-05T13:55:34.346615",
     "exception": false,
     "start_time": "2024-01-05T13:55:34.287043",
     "status": "completed"
    },
    "tags": []
   },
   "outputs": [
    {
     "name": "stdout",
     "output_type": "stream",
     "text": [
      "Training set score: 0.9925\n",
      "Test set score: 0.9941\n"
     ]
    }
   ],
   "source": [
    "print('Training set score: {:.4f}'.format(logistic_regressor.score(X_train_selected, Y_train)))\n",
    "\n",
    "print('Test set score: {:.4f}'.format(logistic_regressor.score(X_test_selected, Y_test)))"
   ]
  },
  {
   "cell_type": "markdown",
   "id": "50282ab6",
   "metadata": {
    "papermill": {
     "duration": 0.052973,
     "end_time": "2024-01-05T13:55:34.467064",
     "exception": false,
     "start_time": "2024-01-05T13:55:34.414091",
     "status": "completed"
    },
    "tags": []
   },
   "source": [
    "# **Logistic Regression Model Confusion Matrix Plotting**"
   ]
  },
  {
   "cell_type": "code",
   "execution_count": 29,
   "id": "38a5aa2f",
   "metadata": {
    "execution": {
     "iopub.execute_input": "2024-01-05T13:55:34.529818Z",
     "iopub.status.busy": "2024-01-05T13:55:34.529387Z",
     "iopub.status.idle": "2024-01-05T13:55:34.889411Z",
     "shell.execute_reply": "2024-01-05T13:55:34.888238Z"
    },
    "papermill": {
     "duration": 0.394669,
     "end_time": "2024-01-05T13:55:34.892181",
     "exception": false,
     "start_time": "2024-01-05T13:55:34.497512",
     "status": "completed"
    },
    "tags": []
   },
   "outputs": [
    {
     "data": {
      "text/plain": [
       "<Axes: title={'center': 'Confusion Matrix'}, xlabel='Predicted label', ylabel='True label'>"
      ]
     },
     "execution_count": 29,
     "metadata": {},
     "output_type": "execute_result"
    },
    {
     "data": {
      "image/png": "[encoded data removed]",
      "text/plain": [
       "<Figure size 640x480 with 2 Axes>"
      ]
     },
     "metadata": {},
     "output_type": "display_data"
    }
   ],
   "source": [
    "import scikitplot as skplt\n",
    "\n",
    "skplt.metrics.plot_confusion_matrix(Y_test, L_pred)"
   ]
  },
  {
   "cell_type": "markdown",
   "id": "43329669",
   "metadata": {
    "papermill": {
     "duration": 0.031575,
     "end_time": "2024-01-05T13:55:34.957105",
     "exception": false,
     "start_time": "2024-01-05T13:55:34.925530",
     "status": "completed"
    },
    "tags": []
   },
   "source": [
    "# **Logistic Regression Model Cross Validation**"
   ]
  },
  {
   "cell_type": "code",
   "execution_count": 30,
   "id": "b9716ff5",
   "metadata": {
    "execution": {
     "iopub.execute_input": "2024-01-05T13:55:35.027008Z",
     "iopub.status.busy": "2024-01-05T13:55:35.026410Z",
     "iopub.status.idle": "2024-01-05T13:55:44.881975Z",
     "shell.execute_reply": "2024-01-05T13:55:44.880264Z"
    },
    "papermill": {
     "duration": 9.897224,
     "end_time": "2024-01-05T13:55:44.887411",
     "exception": false,
     "start_time": "2024-01-05T13:55:34.990187",
     "status": "completed"
    },
    "tags": []
   },
   "outputs": [
    {
     "name": "stdout",
     "output_type": "stream",
     "text": [
      "Accuracy: 0.9897068876027069\n",
      "Precision: 0.881427000470382\n",
      "Recall: 0.7741935483870968\n",
      "F1 Score: 0.8207934705957334\n"
     ]
    }
   ],
   "source": [
    "# Perform cross-validation and get scores for each metric\n",
    "precision_scores = cross_val_score(logistic_regressor, X_no_outliers, Y_no_outliers, cv=cv, scoring=precision_scorer)\n",
    "accuracy_scores = cross_val_score(logistic_regressor, X_no_outliers, Y_no_outliers, cv=cv, scoring='accuracy')\n",
    "f1_scores = cross_val_score(logistic_regressor, X_no_outliers, Y_no_outliers, cv=cv, scoring='f1')\n",
    "recall_scores = cross_val_score(logistic_regressor, X_no_outliers, Y_no_outliers, cv=cv,scoring='recall')\n",
    "\n",
    "# Print the average scores\n",
    "print(f'Accuracy: {np.mean(accuracy_scores)}')\n",
    "print(f'Precision: {np.mean(precision_scores)}')\n",
    "print(f'Recall: {np.mean(recall_scores)}')\n",
    "print(f'F1 Score: {np.mean(f1_scores)}')"
   ]
  },
  {
   "cell_type": "markdown",
   "id": "9a5a8b07",
   "metadata": {
    "papermill": {
     "duration": 0.048324,
     "end_time": "2024-01-05T13:55:45.005251",
     "exception": false,
     "start_time": "2024-01-05T13:55:44.956927",
     "status": "completed"
    },
    "tags": []
   },
   "source": [
    "# **KNN Model Training**"
   ]
  },
  {
   "cell_type": "code",
   "execution_count": 31,
   "id": "ea3f2a3b",
   "metadata": {
    "execution": {
     "iopub.execute_input": "2024-01-05T13:55:45.089093Z",
     "iopub.status.busy": "2024-01-05T13:55:45.088527Z",
     "iopub.status.idle": "2024-01-05T13:55:48.709397Z",
     "shell.execute_reply": "2024-01-05T13:55:48.708265Z"
    },
    "papermill": {
     "duration": 3.665493,
     "end_time": "2024-01-05T13:55:48.712571",
     "exception": false,
     "start_time": "2024-01-05T13:55:45.047078",
     "status": "completed"
    },
    "tags": []
   },
   "outputs": [],
   "source": [
    "from sklearn.model_selection import GridSearchCV\n",
    "from sklearn.neighbors import KNeighborsClassifier\n",
    "\n",
    "# Define the parameter grid with different values of k\n",
    "param_grid = {'n_neighbors': [3, 5, 7, 9, 11]}\n",
    "\n",
    "# Initialize the KNeighborsClassifier\n",
    "knnmodel = KNeighborsClassifier()\n",
    "\n",
    "# Initialize GridSearchCV with the model and parameter grid\n",
    "grid_search = GridSearchCV(knnmodel, param_grid, cv=5, scoring='accuracy')\n",
    "\n",
    "grid_search.fit(X_train_selected, Y_train)\n",
    "\n",
    "# Get the best hyperparameters\n",
    "best_k = grid_search.best_params_['n_neighbors']\n",
    "\n",
    "# Initialize the model with the best value of k\n",
    "best_knnmodel = KNeighborsClassifier(n_neighbors=best_k)\n",
    "\n",
    "best_knnmodel.fit(X_train_selected, Y_train)\n",
    "\n",
    "Y_pred = best_knnmodel.predict(X_test_selected)"
   ]
  },
  {
   "cell_type": "markdown",
   "id": "741a61d7",
   "metadata": {
    "papermill": {
     "duration": 0.031843,
     "end_time": "2024-01-05T13:55:48.776440",
     "exception": false,
     "start_time": "2024-01-05T13:55:48.744597",
     "status": "completed"
    },
    "tags": []
   },
   "source": [
    "# **KNN Model Evaluation**"
   ]
  },
  {
   "cell_type": "code",
   "execution_count": 32,
   "id": "1da034a4",
   "metadata": {
    "execution": {
     "iopub.execute_input": "2024-01-05T13:55:48.841789Z",
     "iopub.status.busy": "2024-01-05T13:55:48.841380Z",
     "iopub.status.idle": "2024-01-05T13:55:49.123066Z",
     "shell.execute_reply": "2024-01-05T13:55:49.121402Z"
    },
    "papermill": {
     "duration": 0.317959,
     "end_time": "2024-01-05T13:55:49.125969",
     "exception": false,
     "start_time": "2024-01-05T13:55:48.808010",
     "status": "completed"
    },
    "tags": []
   },
   "outputs": [
    {
     "name": "stdout",
     "output_type": "stream",
     "text": [
      "\n",
      "Classification Report:\n",
      "              precision    recall  f1-score   support\n",
      "\n",
      "           0       0.99      1.00      0.99      2935\n",
      "           1       0.97      0.71      0.82        97\n",
      "\n",
      "    accuracy                           0.99      3032\n",
      "   macro avg       0.98      0.86      0.91      3032\n",
      "weighted avg       0.99      0.99      0.99      3032\n",
      "\n",
      "\n",
      "Confusion Matrix:\n",
      "[[2933    2]\n",
      " [  28   69]]\n",
      "\n",
      "Accuracy: 0.9901055408970977\n",
      "Precision: 0.9899450753687216\n",
      "Recall: 0.9901055408970977\n",
      "F1 Score: 0.9893617143695906\n"
     ]
    }
   ],
   "source": [
    "# Make predictions\n",
    "y_pred = best_knnmodel.predict(X_test_selected)\n",
    "\n",
    "accuracy = accuracy_score(Y_test, y_pred)\n",
    "classification_report_result = classification_report(Y_test, y_pred)\n",
    "confusion_matrix_result = confusion_matrix(Y_test, y_pred)\n",
    "\n",
    "# Print the results\n",
    "print(\"\\nClassification Report:\")\n",
    "print(classification_report_result)\n",
    "print(\"\\nConfusion Matrix:\")\n",
    "print(confusion_matrix_result)\n",
    "\n",
    "# Extract precision, recall, and F1-score from the classification report\n",
    "precision, recall, f1_score, _ = precision_recall_fscore_support(Y_test, y_pred, average='weighted', zero_division=1)\n",
    "\n",
    "# Print precision, recall, and F1-score\n",
    "print(f\"\\nAccuracy: {accuracy}\")\n",
    "print(\"Precision:\", precision)\n",
    "print(\"Recall:\", recall)\n",
    "print(\"F1 Score:\", f1_score)"
   ]
  },
  {
   "cell_type": "markdown",
   "id": "c073c5bf",
   "metadata": {
    "papermill": {
     "duration": 0.030951,
     "end_time": "2024-01-05T13:55:49.188511",
     "exception": false,
     "start_time": "2024-01-05T13:55:49.157560",
     "status": "completed"
    },
    "tags": []
   },
   "source": [
    "# **KNN Model Confusion Matrix Plotting**"
   ]
  },
  {
   "cell_type": "code",
   "execution_count": 33,
   "id": "359def15",
   "metadata": {
    "execution": {
     "iopub.execute_input": "2024-01-05T13:55:49.254076Z",
     "iopub.status.busy": "2024-01-05T13:55:49.253692Z",
     "iopub.status.idle": "2024-01-05T13:55:49.578617Z",
     "shell.execute_reply": "2024-01-05T13:55:49.577269Z"
    },
    "papermill": {
     "duration": 0.360725,
     "end_time": "2024-01-05T13:55:49.581569",
     "exception": false,
     "start_time": "2024-01-05T13:55:49.220844",
     "status": "completed"
    },
    "tags": []
   },
   "outputs": [
    {
     "data": {
      "image/png": "[encoded data removed]",
      "text/plain": [
       "<Figure size 800x600 with 2 Axes>"
      ]
     },
     "metadata": {},
     "output_type": "display_data"
    }
   ],
   "source": [
    "import matplotlib.pyplot as plt\n",
    "import seaborn as sns\n",
    "from sklearn.metrics import confusion_matrix\n",
    "\n",
    "# Compute the confusion matrix\n",
    "cm = confusion_matrix(Y_test, y_pred)\n",
    "\n",
    "# Plot the confusion matrix\n",
    "plt.figure(figsize=(8, 6))\n",
    "sns.heatmap(cm, annot=True, fmt='d', cmap='Blues')\n",
    "plt.xlabel('Predicted')\n",
    "plt.ylabel('True')\n",
    "plt.title('Confusion Matrix')\n",
    "plt.show()"
   ]
  },
  {
   "cell_type": "markdown",
   "id": "fd685776",
   "metadata": {
    "papermill": {
     "duration": 0.031234,
     "end_time": "2024-01-05T13:55:49.644994",
     "exception": false,
     "start_time": "2024-01-05T13:55:49.613760",
     "status": "completed"
    },
    "tags": []
   },
   "source": [
    "# **KNN Model Overfitting/Underfitting**"
   ]
  },
  {
   "cell_type": "code",
   "execution_count": 34,
   "id": "9d6e865a",
   "metadata": {
    "execution": {
     "iopub.execute_input": "2024-01-05T13:55:49.711432Z",
     "iopub.status.busy": "2024-01-05T13:55:49.710630Z",
     "iopub.status.idle": "2024-01-05T13:55:50.579449Z",
     "shell.execute_reply": "2024-01-05T13:55:50.578440Z"
    },
    "papermill": {
     "duration": 0.905151,
     "end_time": "2024-01-05T13:55:50.582101",
     "exception": false,
     "start_time": "2024-01-05T13:55:49.676950",
     "status": "completed"
    },
    "tags": []
   },
   "outputs": [
    {
     "name": "stdout",
     "output_type": "stream",
     "text": [
      "Training set score: 0.9911\n",
      "Test set score: 0.9901\n"
     ]
    }
   ],
   "source": [
    "print('Training set score: {:.4f}'.format(best_knnmodel.score(X_train_selected, Y_train)))\n",
    "\n",
    "print('Test set score: {:.4f}'.format(best_knnmodel.score(X_test_selected, Y_test)))"
   ]
  },
  {
   "cell_type": "markdown",
   "id": "91ea8ff6",
   "metadata": {
    "papermill": {
     "duration": 0.032498,
     "end_time": "2024-01-05T13:55:50.647881",
     "exception": false,
     "start_time": "2024-01-05T13:55:50.615383",
     "status": "completed"
    },
    "tags": []
   },
   "source": [
    "# **KNN Model Cross Validation**"
   ]
  },
  {
   "cell_type": "code",
   "execution_count": 35,
   "id": "a20467c2",
   "metadata": {
    "execution": {
     "iopub.execute_input": "2024-01-05T13:55:50.715981Z",
     "iopub.status.busy": "2024-01-05T13:55:50.715541Z",
     "iopub.status.idle": "2024-01-05T13:55:55.295718Z",
     "shell.execute_reply": "2024-01-05T13:55:55.294492Z"
    },
    "papermill": {
     "duration": 4.618274,
     "end_time": "2024-01-05T13:55:55.298609",
     "exception": false,
     "start_time": "2024-01-05T13:55:50.680335",
     "status": "completed"
    },
    "tags": []
   },
   "outputs": [
    {
     "name": "stdout",
     "output_type": "stream",
     "text": [
      "Accuracy: 0.9653644563269383\n",
      "Precision: 0.3277763902763903\n",
      "Recall: 0.07631048387096775\n",
      "F1 Score: 0.12047383446296256\n"
     ]
    }
   ],
   "source": [
    "# Perform cross-validation and get scores for each metric\n",
    "precision_scores = cross_val_score(best_knnmodel, X_no_outliers, Y_no_outliers, cv=cv, scoring=precision_scorer)\n",
    "accuracy_scores = cross_val_score(best_knnmodel, X_no_outliers, Y_no_outliers, cv=cv, scoring='accuracy')\n",
    "f1_scores = cross_val_score(best_knnmodel, X_no_outliers, Y_no_outliers, cv=cv, scoring='f1')\n",
    "recall_scores = cross_val_score(best_knnmodel, X_no_outliers, Y_no_outliers, cv=cv,scoring='recall')\n",
    "\n",
    "# Print the average scores\n",
    "print(f'Accuracy: {np.mean(accuracy_scores)}')\n",
    "print(f'Precision: {np.mean(precision_scores)}')\n",
    "print(f'Recall: {np.mean(recall_scores)}')\n",
    "print(f'F1 Score: {np.mean(f1_scores)}')"
   ]
  },
  {
   "cell_type": "markdown",
   "id": "3d5508b6",
   "metadata": {
    "papermill": {
     "duration": 0.03325,
     "end_time": "2024-01-05T13:55:55.366046",
     "exception": false,
     "start_time": "2024-01-05T13:55:55.332796",
     "status": "completed"
    },
    "tags": []
   },
   "source": [
    "# ****Random Forest Model Training****"
   ]
  },
  {
   "cell_type": "code",
   "execution_count": 36,
   "id": "40cd55d7",
   "metadata": {
    "execution": {
     "iopub.execute_input": "2024-01-05T13:55:55.437076Z",
     "iopub.status.busy": "2024-01-05T13:55:55.436227Z",
     "iopub.status.idle": "2024-01-05T13:55:57.454350Z",
     "shell.execute_reply": "2024-01-05T13:55:57.453142Z"
    },
    "papermill": {
     "duration": 2.057437,
     "end_time": "2024-01-05T13:55:57.456873",
     "exception": false,
     "start_time": "2024-01-05T13:55:55.399436",
     "status": "completed"
    },
    "tags": []
   },
   "outputs": [
    {
     "data": {
      "text/html": [
       "<style>#sk-container-id-1 {color: black;background-color: white;}#sk-container-id-1 pre{padding: 0;}#sk-container-id-1 div.sk-toggleable {background-color: white;}#sk-container-id-1 label.sk-toggleable__label {cursor: pointer;display: block;width: 100%;margin-bottom: 0;padding: 0.3em;box-sizing: border-box;text-align: center;}#sk-container-id-1 label.sk-toggleable__label-arrow:before {content: \"▸\";float: left;margin-right: 0.25em;color: #696969;}#sk-container-id-1 label.sk-toggleable__label-arrow:hover:before {color: black;}#sk-container-id-1 div.sk-estimator:hover label.sk-toggleable__label-arrow:before {color: black;}#sk-container-id-1 div.sk-toggleable__content {max-height: 0;max-width: 0;overflow: hidden;text-align: left;background-color: #f0f8ff;}#sk-container-id-1 div.sk-toggleable__content pre {margin: 0.2em;color: black;border-radius: 0.25em;background-color: #f0f8ff;}#sk-container-id-1 input.sk-toggleable__control:checked~div.sk-toggleable__content {max-height: 200px;max-width: 100%;overflow: auto;}#sk-container-id-1 input.sk-toggleable__control:checked~label.sk-toggleable__label-arrow:before {content: \"▾\";}#sk-container-id-1 div.sk-estimator input.sk-toggleable__control:checked~label.sk-toggleable__label {background-color: #d4ebff;}#sk-container-id-1 div.sk-label input.sk-toggleable__control:checked~label.sk-toggleable__label {background-color: #d4ebff;}#sk-container-id-1 input.sk-hidden--visually {border: 0;clip: rect(1px 1px 1px 1px);clip: rect(1px, 1px, 1px, 1px);height: 1px;margin: -1px;overflow: hidden;padding: 0;position: absolute;width: 1px;}#sk-container-id-1 div.sk-estimator {font-family: monospace;background-color: #f0f8ff;border: 1px dotted black;border-radius: 0.25em;box-sizing: border-box;margin-bottom: 0.5em;}#sk-container-id-1 div.sk-estimator:hover {background-color: #d4ebff;}#sk-container-id-1 div.sk-parallel-item::after {content: \"\";width: 100%;border-bottom: 1px solid gray;flex-grow: 1;}#sk-container-id-1 div.sk-label:hover label.sk-toggleable__label {background-color: #d4ebff;}#sk-container-id-1 div.sk-serial::before {content: \"\";position: absolute;border-left: 1px solid gray;box-sizing: border-box;top: 0;bottom: 0;left: 50%;z-index: 0;}#sk-container-id-1 div.sk-serial {display: flex;flex-direction: column;align-items: center;background-color: white;padding-right: 0.2em;padding-left: 0.2em;position: relative;}#sk-container-id-1 div.sk-item {position: relative;z-index: 1;}#sk-container-id-1 div.sk-parallel {display: flex;align-items: stretch;justify-content: center;background-color: white;position: relative;}#sk-container-id-1 div.sk-item::before, #sk-container-id-1 div.sk-parallel-item::before {content: \"\";position: absolute;border-left: 1px solid gray;box-sizing: border-box;top: 0;bottom: 0;left: 50%;z-index: -1;}#sk-container-id-1 div.sk-parallel-item {display: flex;flex-direction: column;z-index: 1;position: relative;background-color: white;}#sk-container-id-1 div.sk-parallel-item:first-child::after {align-self: flex-end;width: 50%;}#sk-container-id-1 div.sk-parallel-item:last-child::after {align-self: flex-start;width: 50%;}#sk-container-id-1 div.sk-parallel-item:only-child::after {width: 0;}#sk-container-id-1 div.sk-dashed-wrapped {border: 1px dashed gray;margin: 0 0.4em 0.5em 0.4em;box-sizing: border-box;padding-bottom: 0.4em;background-color: white;}#sk-container-id-1 div.sk-label label {font-family: monospace;font-weight: bold;display: inline-block;line-height: 1.2em;}#sk-container-id-1 div.sk-label-container {text-align: center;}#sk-container-id-1 div.sk-container {/* jupyter's `normalize.less` sets `[hidden] { display: none; }` but bootstrap.min.css set `[hidden] { display: none !important; }` so we also need the `!important` here to be able to override the default hidden behavior on the sphinx rendered scikit-learn.org. See: https://github.com/scikit-learn/scikit-learn/issues/21755 */display: inline-block !important;position: relative;}#sk-container-id-1 div.sk-text-repr-fallback {display: none;}</style><div id=\"sk-container-id-1\" class=\"sk-top-container\"><div class=\"sk-text-repr-fallback\"><pre>RandomForestClassifier(criterion=&#x27;entropy&#x27;, random_state=42)</pre><b>In a Jupyter environment, please rerun this cell to show the HTML representation or trust the notebook. <br />On GitHub, the HTML representation is unable to render, please try loading this page with nbviewer.org.</b></div><div class=\"sk-container\" hidden><div class=\"sk-item\"><div class=\"sk-estimator sk-toggleable\"><input class=\"sk-toggleable__control sk-hidden--visually\" id=\"sk-estimator-id-1\" type=\"checkbox\" checked><label for=\"sk-estimator-id-1\" class=\"sk-toggleable__label sk-toggleable__label-arrow\">RandomForestClassifier</label><div class=\"sk-toggleable__content\"><pre>RandomForestClassifier(criterion=&#x27;entropy&#x27;, random_state=42)</pre></div></div></div></div></div>"
      ],
      "text/plain": [
       "RandomForestClassifier(criterion='entropy', random_state=42)"
      ]
     },
     "execution_count": 36,
     "metadata": {},
     "output_type": "execute_result"
    }
   ],
   "source": [
    "from sklearn.ensemble import RandomForestClassifier\n",
    "rf = RandomForestClassifier(n_estimators = 100, criterion = 'entropy', random_state = 42)\n",
    "rf.fit(X_train_selected, Y_train)\n"
   ]
  },
  {
   "cell_type": "markdown",
   "id": "8e606f63",
   "metadata": {
    "papermill": {
     "duration": 0.033107,
     "end_time": "2024-01-05T13:55:57.523666",
     "exception": false,
     "start_time": "2024-01-05T13:55:57.490559",
     "status": "completed"
    },
    "tags": []
   },
   "source": [
    "# ****Random Forest Evaluation****"
   ]
  },
  {
   "cell_type": "code",
   "execution_count": 37,
   "id": "77947b92",
   "metadata": {
    "execution": {
     "iopub.execute_input": "2024-01-05T13:55:57.593396Z",
     "iopub.status.busy": "2024-01-05T13:55:57.592933Z",
     "iopub.status.idle": "2024-01-05T13:55:57.655230Z",
     "shell.execute_reply": "2024-01-05T13:55:57.653884Z"
    },
    "papermill": {
     "duration": 0.099501,
     "end_time": "2024-01-05T13:55:57.657878",
     "exception": false,
     "start_time": "2024-01-05T13:55:57.558377",
     "status": "completed"
    },
    "tags": []
   },
   "outputs": [
    {
     "name": "stdout",
     "output_type": "stream",
     "text": [
      "Classification Report:\n",
      "               precision    recall  f1-score   support\n",
      "\n",
      "           0       0.99      1.00      1.00      2935\n",
      "           1       1.00      0.82      0.90        97\n",
      "\n",
      "    accuracy                           0.99      3032\n",
      "   macro avg       1.00      0.91      0.95      3032\n",
      "weighted avg       0.99      0.99      0.99      3032\n",
      "\n",
      "Confusion Matrix:\n",
      " [[2935    0]\n",
      " [  17   80]]\n",
      "\n",
      "Accuracy: 0.9901055408970977\n",
      "Precision: 0.9944254286705135\n",
      "Recall: 0.9943931398416886\n",
      "F1 Score: 0.9941319793628555\n"
     ]
    }
   ],
   "source": [
    "y_pred =rf.predict(X_test_selected)\n",
    "\n",
    "print(\"Classification Report:\\n\", classification_report(Y_test, y_pred))\n",
    "print(\"Confusion Matrix:\\n\", confusion_matrix(Y_test, y_pred))\n",
    "\n",
    "# Extract precision, recall, and F1-score from the classification report\n",
    "precision, recall, f1_score, _ = precision_recall_fscore_support(Y_test, y_pred, average='weighted', zero_division=1)\n",
    "\n",
    "# Print precision, recall, and F1-score\n",
    "print(f\"\\nAccuracy: {accuracy}\")\n",
    "print(\"Precision:\", precision)\n",
    "print(\"Recall:\", recall)\n",
    "print(\"F1 Score:\", f1_score)"
   ]
  },
  {
   "cell_type": "markdown",
   "id": "90e13011",
   "metadata": {
    "papermill": {
     "duration": 0.033338,
     "end_time": "2024-01-05T13:55:57.724794",
     "exception": false,
     "start_time": "2024-01-05T13:55:57.691456",
     "status": "completed"
    },
    "tags": []
   },
   "source": [
    "# **Random Forest Model Overfitting/Underfitting**"
   ]
  },
  {
   "cell_type": "code",
   "execution_count": 38,
   "id": "a6a13736",
   "metadata": {
    "execution": {
     "iopub.execute_input": "2024-01-05T13:55:57.792832Z",
     "iopub.status.busy": "2024-01-05T13:55:57.792383Z",
     "iopub.status.idle": "2024-01-05T13:55:57.910300Z",
     "shell.execute_reply": "2024-01-05T13:55:57.908977Z"
    },
    "papermill": {
     "duration": 0.155276,
     "end_time": "2024-01-05T13:55:57.913013",
     "exception": false,
     "start_time": "2024-01-05T13:55:57.757737",
     "status": "completed"
    },
    "tags": []
   },
   "outputs": [
    {
     "name": "stdout",
     "output_type": "stream",
     "text": [
      "Training set score: 0.9999\n",
      "Test set score: 0.9944\n"
     ]
    }
   ],
   "source": [
    "print('Training set score: {:.4f}'.format(rf.score(X_train_selected, Y_train)))\n",
    "\n",
    "print('Test set score: {:.4f}'.format(rf.score(X_test_selected, Y_test)))"
   ]
  },
  {
   "cell_type": "markdown",
   "id": "e5761fae",
   "metadata": {
    "papermill": {
     "duration": 0.03297,
     "end_time": "2024-01-05T13:55:57.981008",
     "exception": false,
     "start_time": "2024-01-05T13:55:57.948038",
     "status": "completed"
    },
    "tags": []
   },
   "source": [
    "# ****Random Forest Cross Validation****"
   ]
  },
  {
   "cell_type": "code",
   "execution_count": 39,
   "id": "827b9785",
   "metadata": {
    "execution": {
     "iopub.execute_input": "2024-01-05T13:55:58.049598Z",
     "iopub.status.busy": "2024-01-05T13:55:58.049190Z",
     "iopub.status.idle": "2024-01-05T13:59:08.104553Z",
     "shell.execute_reply": "2024-01-05T13:59:08.103209Z"
    },
    "papermill": {
     "duration": 190.12636,
     "end_time": "2024-01-05T13:59:08.140666",
     "exception": false,
     "start_time": "2024-01-05T13:55:58.014306",
     "status": "completed"
    },
    "tags": []
   },
   "outputs": [
    {
     "name": "stdout",
     "output_type": "stream",
     "text": [
      "Accuracy: 0.9931711568782993\n",
      "Precision: 0.9788103968377803\n",
      "Recall: 0.7963709677419354\n",
      "F1 Score: 0.874405573005436\n"
     ]
    }
   ],
   "source": [
    "# Perform cross-validation and get scores for each metric\n",
    "precision_scores = cross_val_score(rf, X_no_outliers, Y_no_outliers, cv=cv, scoring=precision_scorer)\n",
    "accuracy_scores = cross_val_score(rf, X_no_outliers, Y_no_outliers, cv=cv, scoring='accuracy')\n",
    "f1_scores = cross_val_score(rf, X_no_outliers, Y_no_outliers, cv=cv, scoring='f1')\n",
    "recall_scores = cross_val_score(rf, X_no_outliers, Y_no_outliers, cv=cv,scoring='recall')\n",
    "\n",
    "# Print the average scores\n",
    "print(f'Accuracy: {np.mean(accuracy_scores)}')\n",
    "print(f'Precision: {np.mean(precision_scores)}')\n",
    "print(f'Recall: {np.mean(recall_scores)}')\n",
    "print(f'F1 Score: {np.mean(f1_scores)}')"
   ]
  },
  {
   "cell_type": "markdown",
   "id": "6ed4152f",
   "metadata": {
    "papermill": {
     "duration": 0.034134,
     "end_time": "2024-01-05T13:59:08.209650",
     "exception": false,
     "start_time": "2024-01-05T13:59:08.175516",
     "status": "completed"
    },
    "tags": []
   },
   "source": []
  },
  {
   "cell_type": "markdown",
   "id": "1afbe90e",
   "metadata": {
    "papermill": {
     "duration": 0.035238,
     "end_time": "2024-01-05T13:59:08.282278",
     "exception": false,
     "start_time": "2024-01-05T13:59:08.247040",
     "status": "completed"
    },
    "tags": []
   },
   "source": [
    "# ****Naive Bayes Model Training****"
   ]
  },
  {
   "cell_type": "code",
   "execution_count": 40,
   "id": "40315605",
   "metadata": {
    "execution": {
     "iopub.execute_input": "2024-01-05T13:59:08.353446Z",
     "iopub.status.busy": "2024-01-05T13:59:08.352968Z",
     "iopub.status.idle": "2024-01-05T13:59:08.368629Z",
     "shell.execute_reply": "2024-01-05T13:59:08.367385Z"
    },
    "papermill": {
     "duration": 0.055518,
     "end_time": "2024-01-05T13:59:08.371389",
     "exception": false,
     "start_time": "2024-01-05T13:59:08.315871",
     "status": "completed"
    },
    "tags": []
   },
   "outputs": [
    {
     "data": {
      "text/html": [
       "<style>#sk-container-id-2 {color: black;background-color: white;}#sk-container-id-2 pre{padding: 0;}#sk-container-id-2 div.sk-toggleable {background-color: white;}#sk-container-id-2 label.sk-toggleable__label {cursor: pointer;display: block;width: 100%;margin-bottom: 0;padding: 0.3em;box-sizing: border-box;text-align: center;}#sk-container-id-2 label.sk-toggleable__label-arrow:before {content: \"▸\";float: left;margin-right: 0.25em;color: #696969;}#sk-container-id-2 label.sk-toggleable__label-arrow:hover:before {color: black;}#sk-container-id-2 div.sk-estimator:hover label.sk-toggleable__label-arrow:before {color: black;}#sk-container-id-2 div.sk-toggleable__content {max-height: 0;max-width: 0;overflow: hidden;text-align: left;background-color: #f0f8ff;}#sk-container-id-2 div.sk-toggleable__content pre {margin: 0.2em;color: black;border-radius: 0.25em;background-color: #f0f8ff;}#sk-container-id-2 input.sk-toggleable__control:checked~div.sk-toggleable__content {max-height: 200px;max-width: 100%;overflow: auto;}#sk-container-id-2 input.sk-toggleable__control:checked~label.sk-toggleable__label-arrow:before {content: \"▾\";}#sk-container-id-2 div.sk-estimator input.sk-toggleable__control:checked~label.sk-toggleable__label {background-color: #d4ebff;}#sk-container-id-2 div.sk-label input.sk-toggleable__control:checked~label.sk-toggleable__label {background-color: #d4ebff;}#sk-container-id-2 input.sk-hidden--visually {border: 0;clip: rect(1px 1px 1px 1px);clip: rect(1px, 1px, 1px, 1px);height: 1px;margin: -1px;overflow: hidden;padding: 0;position: absolute;width: 1px;}#sk-container-id-2 div.sk-estimator {font-family: monospace;background-color: #f0f8ff;border: 1px dotted black;border-radius: 0.25em;box-sizing: border-box;margin-bottom: 0.5em;}#sk-container-id-2 div.sk-estimator:hover {background-color: #d4ebff;}#sk-container-id-2 div.sk-parallel-item::after {content: \"\";width: 100%;border-bottom: 1px solid gray;flex-grow: 1;}#sk-container-id-2 div.sk-label:hover label.sk-toggleable__label {background-color: #d4ebff;}#sk-container-id-2 div.sk-serial::before {content: \"\";position: absolute;border-left: 1px solid gray;box-sizing: border-box;top: 0;bottom: 0;left: 50%;z-index: 0;}#sk-container-id-2 div.sk-serial {display: flex;flex-direction: column;align-items: center;background-color: white;padding-right: 0.2em;padding-left: 0.2em;position: relative;}#sk-container-id-2 div.sk-item {position: relative;z-index: 1;}#sk-container-id-2 div.sk-parallel {display: flex;align-items: stretch;justify-content: center;background-color: white;position: relative;}#sk-container-id-2 div.sk-item::before, #sk-container-id-2 div.sk-parallel-item::before {content: \"\";position: absolute;border-left: 1px solid gray;box-sizing: border-box;top: 0;bottom: 0;left: 50%;z-index: -1;}#sk-container-id-2 div.sk-parallel-item {display: flex;flex-direction: column;z-index: 1;position: relative;background-color: white;}#sk-container-id-2 div.sk-parallel-item:first-child::after {align-self: flex-end;width: 50%;}#sk-container-id-2 div.sk-parallel-item:last-child::after {align-self: flex-start;width: 50%;}#sk-container-id-2 div.sk-parallel-item:only-child::after {width: 0;}#sk-container-id-2 div.sk-dashed-wrapped {border: 1px dashed gray;margin: 0 0.4em 0.5em 0.4em;box-sizing: border-box;padding-bottom: 0.4em;background-color: white;}#sk-container-id-2 div.sk-label label {font-family: monospace;font-weight: bold;display: inline-block;line-height: 1.2em;}#sk-container-id-2 div.sk-label-container {text-align: center;}#sk-container-id-2 div.sk-container {/* jupyter's `normalize.less` sets `[hidden] { display: none; }` but bootstrap.min.css set `[hidden] { display: none !important; }` so we also need the `!important` here to be able to override the default hidden behavior on the sphinx rendered scikit-learn.org. See: https://github.com/scikit-learn/scikit-learn/issues/21755 */display: inline-block !important;position: relative;}#sk-container-id-2 div.sk-text-repr-fallback {display: none;}</style><div id=\"sk-container-id-2\" class=\"sk-top-container\"><div class=\"sk-text-repr-fallback\"><pre>GaussianNB()</pre><b>In a Jupyter environment, please rerun this cell to show the HTML representation or trust the notebook. <br />On GitHub, the HTML representation is unable to render, please try loading this page with nbviewer.org.</b></div><div class=\"sk-container\" hidden><div class=\"sk-item\"><div class=\"sk-estimator sk-toggleable\"><input class=\"sk-toggleable__control sk-hidden--visually\" id=\"sk-estimator-id-2\" type=\"checkbox\" checked><label for=\"sk-estimator-id-2\" class=\"sk-toggleable__label sk-toggleable__label-arrow\">GaussianNB</label><div class=\"sk-toggleable__content\"><pre>GaussianNB()</pre></div></div></div></div></div>"
      ],
      "text/plain": [
       "GaussianNB()"
      ]
     },
     "execution_count": 40,
     "metadata": {},
     "output_type": "execute_result"
    }
   ],
   "source": [
    "from sklearn.naive_bayes import GaussianNB\n",
    "naive = GaussianNB()\n",
    "naive.fit(X_train_selected, Y_train)"
   ]
  },
  {
   "cell_type": "markdown",
   "id": "15ad5dbf",
   "metadata": {
    "papermill": {
     "duration": 0.034623,
     "end_time": "2024-01-05T13:59:08.441105",
     "exception": false,
     "start_time": "2024-01-05T13:59:08.406482",
     "status": "completed"
    },
    "tags": []
   },
   "source": [
    "# ****Naive Bayes Evaluation****"
   ]
  },
  {
   "cell_type": "code",
   "execution_count": 41,
   "id": "afb2d4a4",
   "metadata": {
    "execution": {
     "iopub.execute_input": "2024-01-05T13:59:08.510888Z",
     "iopub.status.busy": "2024-01-05T13:59:08.510478Z",
     "iopub.status.idle": "2024-01-05T13:59:08.540963Z",
     "shell.execute_reply": "2024-01-05T13:59:08.539731Z"
    },
    "papermill": {
     "duration": 0.068512,
     "end_time": "2024-01-05T13:59:08.543632",
     "exception": false,
     "start_time": "2024-01-05T13:59:08.475120",
     "status": "completed"
    },
    "tags": []
   },
   "outputs": [
    {
     "name": "stdout",
     "output_type": "stream",
     "text": [
      "Classification Report:\n",
      "               precision    recall  f1-score   support\n",
      "\n",
      "           0       0.99      0.99      0.99      2935\n",
      "           1       0.66      0.85      0.74        97\n",
      "\n",
      "    accuracy                           0.98      3032\n",
      "   macro avg       0.83      0.92      0.86      3032\n",
      "weighted avg       0.98      0.98      0.98      3032\n",
      "\n",
      "Confusion Matrix:\n",
      " [[2892   43]\n",
      " [  15   82]]\n",
      "Accuracy: 0.9901055408970977\n",
      "Precision: 0.983999842069865\n",
      "Recall: 0.9808707124010554\n",
      "F1 Score: 0.9820312216894062\n"
     ]
    }
   ],
   "source": [
    "nb_pred = naive.predict(X_test_selected)\n",
    "\n",
    "print(\"Classification Report:\\n\", classification_report(Y_test, nb_pred))\n",
    "print(\"Confusion Matrix:\\n\", confusion_matrix(Y_test, nb_pred))\n",
    "\n",
    "# Extract precision, recall, and F1-score from the classification report\n",
    "precision, recall, f1_score, _ = precision_recall_fscore_support(Y_test, nb_pred,average='weighted', zero_division=1)\n",
    "\n",
    "# Print precision, recall, and F1-score\n",
    "print(\"Accuracy:\", accuracy)\n",
    "print(\"Precision:\", precision)\n",
    "print(\"Recall:\", recall)\n",
    "print(\"F1 Score:\", f1_score)"
   ]
  },
  {
   "cell_type": "markdown",
   "id": "fd11d4a6",
   "metadata": {
    "papermill": {
     "duration": 0.033227,
     "end_time": "2024-01-05T13:59:08.611450",
     "exception": false,
     "start_time": "2024-01-05T13:59:08.578223",
     "status": "completed"
    },
    "tags": []
   },
   "source": [
    "# **Naive Bayes Overfitting/Underfitting**"
   ]
  },
  {
   "cell_type": "code",
   "execution_count": 42,
   "id": "d1c1e6e4",
   "metadata": {
    "execution": {
     "iopub.execute_input": "2024-01-05T13:59:08.680445Z",
     "iopub.status.busy": "2024-01-05T13:59:08.680008Z",
     "iopub.status.idle": "2024-01-05T13:59:08.696396Z",
     "shell.execute_reply": "2024-01-05T13:59:08.694966Z"
    },
    "papermill": {
     "duration": 0.05383,
     "end_time": "2024-01-05T13:59:08.698897",
     "exception": false,
     "start_time": "2024-01-05T13:59:08.645067",
     "status": "completed"
    },
    "tags": []
   },
   "outputs": [
    {
     "name": "stdout",
     "output_type": "stream",
     "text": [
      "Training set score: 0.9770\n",
      "Test set score: 0.9809\n"
     ]
    }
   ],
   "source": [
    "print('Training set score: {:.4f}'.format(naive.score(X_train_selected, Y_train)))\n",
    "\n",
    "print('Test set score: {:.4f}'.format(naive.score(X_test_selected, Y_test)))"
   ]
  },
  {
   "cell_type": "markdown",
   "id": "c905a2e7",
   "metadata": {
    "papermill": {
     "duration": 0.034594,
     "end_time": "2024-01-05T13:59:08.768537",
     "exception": false,
     "start_time": "2024-01-05T13:59:08.733943",
     "status": "completed"
    },
    "tags": []
   },
   "source": [
    "# ****Naive Bayes Cross Validation****"
   ]
  },
  {
   "cell_type": "code",
   "execution_count": 43,
   "id": "1536634e",
   "metadata": {
    "execution": {
     "iopub.execute_input": "2024-01-05T13:59:08.840776Z",
     "iopub.status.busy": "2024-01-05T13:59:08.840008Z",
     "iopub.status.idle": "2024-01-05T13:59:09.400516Z",
     "shell.execute_reply": "2024-01-05T13:59:09.399291Z"
    },
    "papermill": {
     "duration": 0.600969,
     "end_time": "2024-01-05T13:59:09.403811",
     "exception": false,
     "start_time": "2024-01-05T13:59:08.802842",
     "status": "completed"
    },
    "tags": []
   },
   "outputs": [
    {
     "name": "stdout",
     "output_type": "stream",
     "text": [
      "Accuracy: 0.9885200419151706\n",
      "Precision: 0.8720172056749507\n",
      "Recall: 0.7456653225806452\n",
      "F1 Score: 0.7998527692903741\n"
     ]
    }
   ],
   "source": [
    "# Perform cross-validation and get scores for each metric\n",
    "precision_scores = cross_val_score(naive, X_no_outliers, Y_no_outliers, cv=cv, scoring=precision_scorer)\n",
    "accuracy_scores = cross_val_score(naive, X_no_outliers, Y_no_outliers, cv=cv, scoring='accuracy')\n",
    "f1_scores = cross_val_score(naive, X_no_outliers, Y_no_outliers, cv=cv, scoring='f1')\n",
    "recall_scores = cross_val_score(naive, X_no_outliers, Y_no_outliers, cv=cv,scoring='recall')\n",
    "\n",
    "# Print the average scores\n",
    "print(f'Accuracy: {np.mean(accuracy_scores)}')\n",
    "print(f'Precision: {np.mean(precision_scores)}')\n",
    "print(f'Recall: {np.mean(recall_scores)}')\n",
    "print(f'F1 Score: {np.mean(f1_scores)}')"
   ]
  }
 ],
 "metadata": {
  "kaggle": {
   "accelerator": "none",
   "dataSources": [
    {
     "datasetId": 310,
     "sourceId": 23498,
     "sourceType": "datasetVersion"
    },
    {
     "datasetId": 4264507,
     "sourceId": 7344253,
     "sourceType": "datasetVersion"
    }
   ],
   "dockerImageVersionId": 30626,
   "isGpuEnabled": false,
   "isInternetEnabled": false,
   "language": "python",
   "sourceType": "notebook"
  },
  "kernelspec": {
   "display_name": "Python 3",
   "language": "python",
   "name": "python3"
  },
  "language_info": {
   "codemirror_mode": {
    "name": "ipython",
    "version": 3
   },
   "file_extension": ".py",
   "mimetype": "text/x-python",
   "name": "python",
   "nbconvert_exporter": "python",
   "pygments_lexer": "ipython3",
   "version": "3.10.12"
  },
  "papermill": {
   "default_parameters": {},
   "duration": 564.176835,
   "end_time": "2024-01-05T13:59:10.265491",
   "environment_variables": {},
   "exception": null,
   "input_path": "__notebook__.ipynb",
   "output_path": "__notebook__.ipynb",
   "parameters": {},
   "start_time": "2024-01-05T13:49:46.088656",
   "version": "2.4.0"
  }
 },
 "nbformat": 4,
 "nbformat_minor": 5
}
